{
  "nbformat": 4,
  "nbformat_minor": 0,
  "metadata": {
    "colab": {
      "name": "Untitled1.ipynb",
      "provenance": []
    },
    "kernelspec": {
      "name": "python3",
      "display_name": "Python 3"
    },
    "language_info": {
      "name": "python"
    }
  },
  "cells": [
    {
      "cell_type": "code",
      "source": [
        "import pandas as pd\n",
        "import numpy as np\n",
        "from nltk.tokenize import word_tokenize\n",
        "from nltk import pos_tag\n",
        "from nltk.corpus import stopwords\n",
        "from nltk.stem import WordNetLemmatizer\n",
        "from sklearn.preprocessing import LabelEncoder\n",
        "from collections import defaultdict\n",
        "from nltk.corpus import wordnet as wn\n",
        "from sklearn.feature_extraction.text import TfidfVectorizer\n",
        "from sklearn import model_selection, naive_bayes, svm\n",
        "from sklearn.metrics import accuracy_score"
      ],
      "metadata": {
        "id": "z31uy1GnYM2K"
      },
      "execution_count": null,
      "outputs": []
    },
    {
      "cell_type": "code",
      "source": [
        "np.random.seed(500)"
      ],
      "metadata": {
        "id": "EMNVeC_MYM4W"
      },
      "execution_count": null,
      "outputs": []
    },
    {
      "cell_type": "code",
      "source": [
        "Corpus = pd.read_csv('Hope_ENG_train.csv',usecols=['Text','Label'])\n",
        "\n",
        "Corpus"
      ],
      "metadata": {
        "colab": {
          "base_uri": "https://localhost:8080/",
          "height": 424
        },
        "id": "DX9kC0RnY6da",
        "outputId": "9dddf708-8190-49fd-e2d0-fd28057192d0"
      },
      "execution_count": null,
      "outputs": [
        {
          "output_type": "execute_result",
          "data": {
            "text/plain": [
              "                                                    Text            Label\n",
              "0      these tiktoks radiate gay chaotic energy and i...  Non_hope_speech\n",
              "1      @Champions Again He got killed for using false...  Non_hope_speech\n",
              "2                   It's not that all lives don't matter  Non_hope_speech\n",
              "3      Is it really that difficult to understand? Bla...  Non_hope_speech\n",
              "4      Whenever we say black isn't that racists?  Why...  Non_hope_speech\n",
              "...                                                  ...              ...\n",
              "22735  It's a load of bollocks every life matters sim...  Non_hope_speech\n",
              "22736  no say it because all lives matter! deku would...  Non_hope_speech\n",
              "22737                          God says her life matters  Non_hope_speech\n",
              "22738  This video is just shit. A bunch of whiny ass ...  Non_hope_speech\n",
              "22739  Mc Fortnut2821 she did 4 months ago in west ch...  Non_hope_speech\n",
              "\n",
              "[22740 rows x 2 columns]"
            ],
            "text/html": [
              "\n",
              "  <div id=\"df-5cf12be5-ae62-4cdb-8f95-5117274036a1\">\n",
              "    <div class=\"colab-df-container\">\n",
              "      <div>\n",
              "<style scoped>\n",
              "    .dataframe tbody tr th:only-of-type {\n",
              "        vertical-align: middle;\n",
              "    }\n",
              "\n",
              "    .dataframe tbody tr th {\n",
              "        vertical-align: top;\n",
              "    }\n",
              "\n",
              "    .dataframe thead th {\n",
              "        text-align: right;\n",
              "    }\n",
              "</style>\n",
              "<table border=\"1\" class=\"dataframe\">\n",
              "  <thead>\n",
              "    <tr style=\"text-align: right;\">\n",
              "      <th></th>\n",
              "      <th>Text</th>\n",
              "      <th>Label</th>\n",
              "    </tr>\n",
              "  </thead>\n",
              "  <tbody>\n",
              "    <tr>\n",
              "      <th>0</th>\n",
              "      <td>these tiktoks radiate gay chaotic energy and i...</td>\n",
              "      <td>Non_hope_speech</td>\n",
              "    </tr>\n",
              "    <tr>\n",
              "      <th>1</th>\n",
              "      <td>@Champions Again He got killed for using false...</td>\n",
              "      <td>Non_hope_speech</td>\n",
              "    </tr>\n",
              "    <tr>\n",
              "      <th>2</th>\n",
              "      <td>It's not that all lives don't matter</td>\n",
              "      <td>Non_hope_speech</td>\n",
              "    </tr>\n",
              "    <tr>\n",
              "      <th>3</th>\n",
              "      <td>Is it really that difficult to understand? Bla...</td>\n",
              "      <td>Non_hope_speech</td>\n",
              "    </tr>\n",
              "    <tr>\n",
              "      <th>4</th>\n",
              "      <td>Whenever we say black isn't that racists?  Why...</td>\n",
              "      <td>Non_hope_speech</td>\n",
              "    </tr>\n",
              "    <tr>\n",
              "      <th>...</th>\n",
              "      <td>...</td>\n",
              "      <td>...</td>\n",
              "    </tr>\n",
              "    <tr>\n",
              "      <th>22735</th>\n",
              "      <td>It's a load of bollocks every life matters sim...</td>\n",
              "      <td>Non_hope_speech</td>\n",
              "    </tr>\n",
              "    <tr>\n",
              "      <th>22736</th>\n",
              "      <td>no say it because all lives matter! deku would...</td>\n",
              "      <td>Non_hope_speech</td>\n",
              "    </tr>\n",
              "    <tr>\n",
              "      <th>22737</th>\n",
              "      <td>God says her life matters</td>\n",
              "      <td>Non_hope_speech</td>\n",
              "    </tr>\n",
              "    <tr>\n",
              "      <th>22738</th>\n",
              "      <td>This video is just shit. A bunch of whiny ass ...</td>\n",
              "      <td>Non_hope_speech</td>\n",
              "    </tr>\n",
              "    <tr>\n",
              "      <th>22739</th>\n",
              "      <td>Mc Fortnut2821 she did 4 months ago in west ch...</td>\n",
              "      <td>Non_hope_speech</td>\n",
              "    </tr>\n",
              "  </tbody>\n",
              "</table>\n",
              "<p>22740 rows × 2 columns</p>\n",
              "</div>\n",
              "      <button class=\"colab-df-convert\" onclick=\"convertToInteractive('df-5cf12be5-ae62-4cdb-8f95-5117274036a1')\"\n",
              "              title=\"Convert this dataframe to an interactive table.\"\n",
              "              style=\"display:none;\">\n",
              "        \n",
              "  <svg xmlns=\"http://www.w3.org/2000/svg\" height=\"24px\"viewBox=\"0 0 24 24\"\n",
              "       width=\"24px\">\n",
              "    <path d=\"M0 0h24v24H0V0z\" fill=\"none\"/>\n",
              "    <path d=\"M18.56 5.44l.94 2.06.94-2.06 2.06-.94-2.06-.94-.94-2.06-.94 2.06-2.06.94zm-11 1L8.5 8.5l.94-2.06 2.06-.94-2.06-.94L8.5 2.5l-.94 2.06-2.06.94zm10 10l.94 2.06.94-2.06 2.06-.94-2.06-.94-.94-2.06-.94 2.06-2.06.94z\"/><path d=\"M17.41 7.96l-1.37-1.37c-.4-.4-.92-.59-1.43-.59-.52 0-1.04.2-1.43.59L10.3 9.45l-7.72 7.72c-.78.78-.78 2.05 0 2.83L4 21.41c.39.39.9.59 1.41.59.51 0 1.02-.2 1.41-.59l7.78-7.78 2.81-2.81c.8-.78.8-2.07 0-2.86zM5.41 20L4 18.59l7.72-7.72 1.47 1.35L5.41 20z\"/>\n",
              "  </svg>\n",
              "      </button>\n",
              "      \n",
              "  <style>\n",
              "    .colab-df-container {\n",
              "      display:flex;\n",
              "      flex-wrap:wrap;\n",
              "      gap: 12px;\n",
              "    }\n",
              "\n",
              "    .colab-df-convert {\n",
              "      background-color: #E8F0FE;\n",
              "      border: none;\n",
              "      border-radius: 50%;\n",
              "      cursor: pointer;\n",
              "      display: none;\n",
              "      fill: #1967D2;\n",
              "      height: 32px;\n",
              "      padding: 0 0 0 0;\n",
              "      width: 32px;\n",
              "    }\n",
              "\n",
              "    .colab-df-convert:hover {\n",
              "      background-color: #E2EBFA;\n",
              "      box-shadow: 0px 1px 2px rgba(60, 64, 67, 0.3), 0px 1px 3px 1px rgba(60, 64, 67, 0.15);\n",
              "      fill: #174EA6;\n",
              "    }\n",
              "\n",
              "    [theme=dark] .colab-df-convert {\n",
              "      background-color: #3B4455;\n",
              "      fill: #D2E3FC;\n",
              "    }\n",
              "\n",
              "    [theme=dark] .colab-df-convert:hover {\n",
              "      background-color: #434B5C;\n",
              "      box-shadow: 0px 1px 3px 1px rgba(0, 0, 0, 0.15);\n",
              "      filter: drop-shadow(0px 1px 2px rgba(0, 0, 0, 0.3));\n",
              "      fill: #FFFFFF;\n",
              "    }\n",
              "  </style>\n",
              "\n",
              "      <script>\n",
              "        const buttonEl =\n",
              "          document.querySelector('#df-5cf12be5-ae62-4cdb-8f95-5117274036a1 button.colab-df-convert');\n",
              "        buttonEl.style.display =\n",
              "          google.colab.kernel.accessAllowed ? 'block' : 'none';\n",
              "\n",
              "        async function convertToInteractive(key) {\n",
              "          const element = document.querySelector('#df-5cf12be5-ae62-4cdb-8f95-5117274036a1');\n",
              "          const dataTable =\n",
              "            await google.colab.kernel.invokeFunction('convertToInteractive',\n",
              "                                                     [key], {});\n",
              "          if (!dataTable) return;\n",
              "\n",
              "          const docLinkHtml = 'Like what you see? Visit the ' +\n",
              "            '<a target=\"_blank\" href=https://colab.research.google.com/notebooks/data_table.ipynb>data table notebook</a>'\n",
              "            + ' to learn more about interactive tables.';\n",
              "          element.innerHTML = '';\n",
              "          dataTable['output_type'] = 'display_data';\n",
              "          await google.colab.output.renderOutput(dataTable, element);\n",
              "          const docLink = document.createElement('div');\n",
              "          docLink.innerHTML = docLinkHtml;\n",
              "          element.appendChild(docLink);\n",
              "        }\n",
              "      </script>\n",
              "    </div>\n",
              "  </div>\n",
              "  "
            ]
          },
          "metadata": {},
          "execution_count": 4
        }
      ]
    },
    {
      "cell_type": "code",
      "source": [
        "import nltk\n",
        "nltk.download('wordnet')\n",
        "nltk.download('punkt')\n",
        "nltk.download('averaged_perceptron_tagger')\n",
        "nltk.download('stopwords')"
      ],
      "metadata": {
        "colab": {
          "base_uri": "https://localhost:8080/"
        },
        "id": "WfsfnuoAaQAH",
        "outputId": "bcd631c1-02f2-4463-a9e7-e65b6f6604d6"
      },
      "execution_count": null,
      "outputs": [
        {
          "output_type": "stream",
          "name": "stdout",
          "text": [
            "[nltk_data] Downloading package wordnet to /root/nltk_data...\n",
            "[nltk_data]   Unzipping corpora/wordnet.zip.\n",
            "[nltk_data] Downloading package punkt to /root/nltk_data...\n",
            "[nltk_data]   Unzipping tokenizers/punkt.zip.\n",
            "[nltk_data] Downloading package averaged_perceptron_tagger to\n",
            "[nltk_data]     /root/nltk_data...\n",
            "[nltk_data]   Unzipping taggers/averaged_perceptron_tagger.zip.\n",
            "[nltk_data] Downloading package stopwords to /root/nltk_data...\n",
            "[nltk_data]   Unzipping corpora/stopwords.zip.\n"
          ]
        },
        {
          "output_type": "execute_result",
          "data": {
            "text/plain": [
              "True"
            ]
          },
          "metadata": {},
          "execution_count": 5
        }
      ]
    },
    {
      "cell_type": "code",
      "source": [
        "# Step - a : Remove blank rows if any.\n",
        "Corpus['Text'].dropna(inplace=True)\n",
        "# Step - b : Change all the text to lower case. This is required as python interprets 'dog' and 'DOG' differently\n",
        "Corpus['Text'] = [entry.lower() for entry in Corpus['Text']]\n",
        "# Step - c : Tokenization : In this each entry in the corpus will be broken into set of words\n",
        "Corpus['Text']= [word_tokenize(entry) for entry in Corpus['Text']]\n",
        "# Step - d : Remove Stop words, Non-Numeric and perfom Word Stemming/Lemmenting.\n",
        "# WordNetLemmatizer requires Pos tags to understand if the word is noun or verb or adjective etc. By default it is set to Noun\n",
        "tag_map = defaultdict(lambda : wn.NOUN)\n",
        "tag_map['J'] = wn.ADJ\n",
        "tag_map['V'] = wn.VERB\n",
        "tag_map['R'] = wn.ADV\n",
        "for index,entry in enumerate(Corpus['Text']):\n",
        "    # Declaring Empty List to store the words that follow the rules for this step\n",
        "    Final_words = []\n",
        "    # Initializing WordNetLemmatizer()\n",
        "    word_Lemmatized = WordNetLemmatizer()\n",
        "    # pos_tag function below will provide the 'tag' i.e if the word is Noun(N) or Verb(V) or something else.\n",
        "    for word, tag in pos_tag(entry):\n",
        "        # Below condition is to check for Stop words and consider only alphabets\n",
        "        if word not in stopwords.words('english') and word.isalpha():\n",
        "            word_Final = word_Lemmatized.lemmatize(word,tag_map[tag[0]])\n",
        "            Final_words.append(word_Final)\n",
        "    # The final processed set of words for each iteration will be stored in 'text_final'\n",
        "    Corpus.loc[index,'text_final'] = str(Final_words)"
      ],
      "metadata": {
        "id": "O1qnxY8KYM60"
      },
      "execution_count": null,
      "outputs": []
    },
    {
      "cell_type": "code",
      "source": [
        "Corpus1 = pd.read_csv('Hope_ENG_dev.csv')\n",
        "Corpus1.columns =['Text', 'Label']\n",
        "Corpus1"
      ],
      "metadata": {
        "colab": {
          "base_uri": "https://localhost:8080/",
          "height": 424
        },
        "id": "PzAbSZSQczK7",
        "outputId": "555f542b-d042-4627-cf9d-18c28dace593"
      },
      "execution_count": null,
      "outputs": [
        {
          "output_type": "execute_result",
          "data": {
            "text/plain": [
              "                                                   Text            Label\n",
              "0     @Generation X Counting money that she been giv...  Non_hope_speech\n",
              "1     @Paola Hernandez i never said to be intolerant...  Non_hope_speech\n",
              "2     @Firstlast300 Wow An opinion is that I don't l...  Non_hope_speech\n",
              "3     WOW!!!!!!!That was so so inspiring and incredi...      Hope_speech\n",
              "4     @FALC0n  Yea sorry I know Asian is an ethnicit...  Non_hope_speech\n",
              "...                                                 ...              ...\n",
              "2835                             Such fake sentiment. .  Non_hope_speech\n",
              "2836  @A G black lives arent undervalued compared to...  Non_hope_speech\n",
              "2837  People who pulled it down can and will be arre...  Non_hope_speech\n",
              "2838  @Aaron Castellanos It will be a two hour movie...  Non_hope_speech\n",
              "2839  why is there no footage of the riots and the v...      Hope_speech\n",
              "\n",
              "[2840 rows x 2 columns]"
            ],
            "text/html": [
              "\n",
              "  <div id=\"df-787a9abb-34bb-4da1-8b5b-f07a079249ec\">\n",
              "    <div class=\"colab-df-container\">\n",
              "      <div>\n",
              "<style scoped>\n",
              "    .dataframe tbody tr th:only-of-type {\n",
              "        vertical-align: middle;\n",
              "    }\n",
              "\n",
              "    .dataframe tbody tr th {\n",
              "        vertical-align: top;\n",
              "    }\n",
              "\n",
              "    .dataframe thead th {\n",
              "        text-align: right;\n",
              "    }\n",
              "</style>\n",
              "<table border=\"1\" class=\"dataframe\">\n",
              "  <thead>\n",
              "    <tr style=\"text-align: right;\">\n",
              "      <th></th>\n",
              "      <th>Text</th>\n",
              "      <th>Label</th>\n",
              "    </tr>\n",
              "  </thead>\n",
              "  <tbody>\n",
              "    <tr>\n",
              "      <th>0</th>\n",
              "      <td>@Generation X Counting money that she been giv...</td>\n",
              "      <td>Non_hope_speech</td>\n",
              "    </tr>\n",
              "    <tr>\n",
              "      <th>1</th>\n",
              "      <td>@Paola Hernandez i never said to be intolerant...</td>\n",
              "      <td>Non_hope_speech</td>\n",
              "    </tr>\n",
              "    <tr>\n",
              "      <th>2</th>\n",
              "      <td>@Firstlast300 Wow An opinion is that I don't l...</td>\n",
              "      <td>Non_hope_speech</td>\n",
              "    </tr>\n",
              "    <tr>\n",
              "      <th>3</th>\n",
              "      <td>WOW!!!!!!!That was so so inspiring and incredi...</td>\n",
              "      <td>Hope_speech</td>\n",
              "    </tr>\n",
              "    <tr>\n",
              "      <th>4</th>\n",
              "      <td>@FALC0n  Yea sorry I know Asian is an ethnicit...</td>\n",
              "      <td>Non_hope_speech</td>\n",
              "    </tr>\n",
              "    <tr>\n",
              "      <th>...</th>\n",
              "      <td>...</td>\n",
              "      <td>...</td>\n",
              "    </tr>\n",
              "    <tr>\n",
              "      <th>2835</th>\n",
              "      <td>Such fake sentiment. .</td>\n",
              "      <td>Non_hope_speech</td>\n",
              "    </tr>\n",
              "    <tr>\n",
              "      <th>2836</th>\n",
              "      <td>@A G black lives arent undervalued compared to...</td>\n",
              "      <td>Non_hope_speech</td>\n",
              "    </tr>\n",
              "    <tr>\n",
              "      <th>2837</th>\n",
              "      <td>People who pulled it down can and will be arre...</td>\n",
              "      <td>Non_hope_speech</td>\n",
              "    </tr>\n",
              "    <tr>\n",
              "      <th>2838</th>\n",
              "      <td>@Aaron Castellanos It will be a two hour movie...</td>\n",
              "      <td>Non_hope_speech</td>\n",
              "    </tr>\n",
              "    <tr>\n",
              "      <th>2839</th>\n",
              "      <td>why is there no footage of the riots and the v...</td>\n",
              "      <td>Hope_speech</td>\n",
              "    </tr>\n",
              "  </tbody>\n",
              "</table>\n",
              "<p>2840 rows × 2 columns</p>\n",
              "</div>\n",
              "      <button class=\"colab-df-convert\" onclick=\"convertToInteractive('df-787a9abb-34bb-4da1-8b5b-f07a079249ec')\"\n",
              "              title=\"Convert this dataframe to an interactive table.\"\n",
              "              style=\"display:none;\">\n",
              "        \n",
              "  <svg xmlns=\"http://www.w3.org/2000/svg\" height=\"24px\"viewBox=\"0 0 24 24\"\n",
              "       width=\"24px\">\n",
              "    <path d=\"M0 0h24v24H0V0z\" fill=\"none\"/>\n",
              "    <path d=\"M18.56 5.44l.94 2.06.94-2.06 2.06-.94-2.06-.94-.94-2.06-.94 2.06-2.06.94zm-11 1L8.5 8.5l.94-2.06 2.06-.94-2.06-.94L8.5 2.5l-.94 2.06-2.06.94zm10 10l.94 2.06.94-2.06 2.06-.94-2.06-.94-.94-2.06-.94 2.06-2.06.94z\"/><path d=\"M17.41 7.96l-1.37-1.37c-.4-.4-.92-.59-1.43-.59-.52 0-1.04.2-1.43.59L10.3 9.45l-7.72 7.72c-.78.78-.78 2.05 0 2.83L4 21.41c.39.39.9.59 1.41.59.51 0 1.02-.2 1.41-.59l7.78-7.78 2.81-2.81c.8-.78.8-2.07 0-2.86zM5.41 20L4 18.59l7.72-7.72 1.47 1.35L5.41 20z\"/>\n",
              "  </svg>\n",
              "      </button>\n",
              "      \n",
              "  <style>\n",
              "    .colab-df-container {\n",
              "      display:flex;\n",
              "      flex-wrap:wrap;\n",
              "      gap: 12px;\n",
              "    }\n",
              "\n",
              "    .colab-df-convert {\n",
              "      background-color: #E8F0FE;\n",
              "      border: none;\n",
              "      border-radius: 50%;\n",
              "      cursor: pointer;\n",
              "      display: none;\n",
              "      fill: #1967D2;\n",
              "      height: 32px;\n",
              "      padding: 0 0 0 0;\n",
              "      width: 32px;\n",
              "    }\n",
              "\n",
              "    .colab-df-convert:hover {\n",
              "      background-color: #E2EBFA;\n",
              "      box-shadow: 0px 1px 2px rgba(60, 64, 67, 0.3), 0px 1px 3px 1px rgba(60, 64, 67, 0.15);\n",
              "      fill: #174EA6;\n",
              "    }\n",
              "\n",
              "    [theme=dark] .colab-df-convert {\n",
              "      background-color: #3B4455;\n",
              "      fill: #D2E3FC;\n",
              "    }\n",
              "\n",
              "    [theme=dark] .colab-df-convert:hover {\n",
              "      background-color: #434B5C;\n",
              "      box-shadow: 0px 1px 3px 1px rgba(0, 0, 0, 0.15);\n",
              "      filter: drop-shadow(0px 1px 2px rgba(0, 0, 0, 0.3));\n",
              "      fill: #FFFFFF;\n",
              "    }\n",
              "  </style>\n",
              "\n",
              "      <script>\n",
              "        const buttonEl =\n",
              "          document.querySelector('#df-787a9abb-34bb-4da1-8b5b-f07a079249ec button.colab-df-convert');\n",
              "        buttonEl.style.display =\n",
              "          google.colab.kernel.accessAllowed ? 'block' : 'none';\n",
              "\n",
              "        async function convertToInteractive(key) {\n",
              "          const element = document.querySelector('#df-787a9abb-34bb-4da1-8b5b-f07a079249ec');\n",
              "          const dataTable =\n",
              "            await google.colab.kernel.invokeFunction('convertToInteractive',\n",
              "                                                     [key], {});\n",
              "          if (!dataTable) return;\n",
              "\n",
              "          const docLinkHtml = 'Like what you see? Visit the ' +\n",
              "            '<a target=\"_blank\" href=https://colab.research.google.com/notebooks/data_table.ipynb>data table notebook</a>'\n",
              "            + ' to learn more about interactive tables.';\n",
              "          element.innerHTML = '';\n",
              "          dataTable['output_type'] = 'display_data';\n",
              "          await google.colab.output.renderOutput(dataTable, element);\n",
              "          const docLink = document.createElement('div');\n",
              "          docLink.innerHTML = docLinkHtml;\n",
              "          element.appendChild(docLink);\n",
              "        }\n",
              "      </script>\n",
              "    </div>\n",
              "  </div>\n",
              "  "
            ]
          },
          "metadata": {},
          "execution_count": 7
        }
      ]
    },
    {
      "cell_type": "code",
      "source": [
        "# Step - a : Remove blank rows if any.\n",
        "Corpus1['Text'].dropna(inplace=True)\n",
        "# Step - b : Change all the text to lower case. This is required as python interprets 'dog' and 'DOG' differently\n",
        "Corpus1['Text'] = [entry.lower() for entry in Corpus1['Text']]\n",
        "# Step - c : Tokenization : In this each entry in the corpus will be broken into set of words\n",
        "Corpus1['Text']= [word_tokenize(entry) for entry in Corpus1['Text']]\n",
        "# Step - d : Remove Stop words, Non-Numeric and perfom Word Stemming/Lemmenting.\n",
        "# WordNetLemmatizer requires Pos tags to understand if the word is noun or verb or adjective etc. By default it is set to Noun\n",
        "tag_map = defaultdict(lambda : wn.NOUN)\n",
        "tag_map['J'] = wn.ADJ\n",
        "tag_map['V'] = wn.VERB\n",
        "tag_map['R'] = wn.ADV\n",
        "for index,entry in enumerate(Corpus1['Text']):\n",
        "    # Declaring Empty List to store the words that follow the rules for this step\n",
        "    Final_words = []\n",
        "    # Initializing WordNetLemmatizer()\n",
        "    word_Lemmatized = WordNetLemmatizer()\n",
        "    # pos_tag function below will provide the 'tag' i.e if the word is Noun(N) or Verb(V) or something else.\n",
        "    for word, tag in pos_tag(entry):\n",
        "        # Below condition is to check for Stop words and consider only alphabets\n",
        "        if word not in stopwords.words('english') and word.isalpha():\n",
        "            word_Final = word_Lemmatized.lemmatize(word,tag_map[tag[0]])\n",
        "            Final_words.append(word_Final)\n",
        "    # The final processed set of words for each iteration will be stored in 'text_final'\n",
        "    Corpus1.loc[index,'text_final'] = str(Final_words)"
      ],
      "metadata": {
        "id": "lfQIqvisc0hS"
      },
      "execution_count": null,
      "outputs": []
    },
    {
      "cell_type": "code",
      "source": [
        "Corpus1"
      ],
      "metadata": {
        "colab": {
          "base_uri": "https://localhost:8080/",
          "height": 424
        },
        "id": "NzQCOue2djL4",
        "outputId": "044f763c-6478-4a66-cabf-49363fad7905"
      },
      "execution_count": null,
      "outputs": [
        {
          "output_type": "execute_result",
          "data": {
            "text/plain": [
              "                                                   Text            Label  \\\n",
              "0     [@, generation, x, counting, money, that, she,...  Non_hope_speech   \n",
              "1     [@, paola, hernandez, i, never, said, to, be, ...  Non_hope_speech   \n",
              "2     [@, firstlast300, wow, an, opinion, is, that, ...  Non_hope_speech   \n",
              "3     [wow, !, !, !, !, !, !, !, that, was, so, so, ...      Hope_speech   \n",
              "4     [@, falc0n, yea, sorry, i, know, asian, is, an...  Non_hope_speech   \n",
              "...                                                 ...              ...   \n",
              "2835                      [such, fake, sentiment, ., .]  Non_hope_speech   \n",
              "2836  [@, a, g, black, lives, arent, undervalued, co...  Non_hope_speech   \n",
              "2837  [people, who, pulled, it, down, can, and, will...  Non_hope_speech   \n",
              "2838  [@, aaron, castellanos, it, will, be, a, two, ...  Non_hope_speech   \n",
              "2839  [why, is, there, no, footage, of, the, riots, ...      Hope_speech   \n",
              "\n",
              "                                             text_final  \n",
              "0     ['generation', 'x', 'count', 'money', 'give', ...  \n",
              "1     ['paola', 'hernandez', 'never', 'say', 'intole...  \n",
              "2                   ['wow', 'opinion', 'like', 'color']  \n",
              "3     ['wow', 'inspiring', 'incredible', 'speech', '...  \n",
              "4     ['yea', 'sorry', 'know', 'asian', 'ethnicity',...  \n",
              "...                                                 ...  \n",
              "2835                              ['fake', 'sentiment']  \n",
              "2836  ['g', 'black', 'live', 'arent', 'undervalue', ...  \n",
              "2837  ['people', 'pull', 'arrest', 'cause', 'damage'...  \n",
              "2838  ['aaron', 'castellanos', 'two', 'hour', 'movie...  \n",
              "2839  ['footage', 'riot', 'violence', 'protester', '...  \n",
              "\n",
              "[2840 rows x 3 columns]"
            ],
            "text/html": [
              "\n",
              "  <div id=\"df-8d3bb058-25b7-4600-a86e-2238b287b588\">\n",
              "    <div class=\"colab-df-container\">\n",
              "      <div>\n",
              "<style scoped>\n",
              "    .dataframe tbody tr th:only-of-type {\n",
              "        vertical-align: middle;\n",
              "    }\n",
              "\n",
              "    .dataframe tbody tr th {\n",
              "        vertical-align: top;\n",
              "    }\n",
              "\n",
              "    .dataframe thead th {\n",
              "        text-align: right;\n",
              "    }\n",
              "</style>\n",
              "<table border=\"1\" class=\"dataframe\">\n",
              "  <thead>\n",
              "    <tr style=\"text-align: right;\">\n",
              "      <th></th>\n",
              "      <th>Text</th>\n",
              "      <th>Label</th>\n",
              "      <th>text_final</th>\n",
              "    </tr>\n",
              "  </thead>\n",
              "  <tbody>\n",
              "    <tr>\n",
              "      <th>0</th>\n",
              "      <td>[@, generation, x, counting, money, that, she,...</td>\n",
              "      <td>Non_hope_speech</td>\n",
              "      <td>['generation', 'x', 'count', 'money', 'give', ...</td>\n",
              "    </tr>\n",
              "    <tr>\n",
              "      <th>1</th>\n",
              "      <td>[@, paola, hernandez, i, never, said, to, be, ...</td>\n",
              "      <td>Non_hope_speech</td>\n",
              "      <td>['paola', 'hernandez', 'never', 'say', 'intole...</td>\n",
              "    </tr>\n",
              "    <tr>\n",
              "      <th>2</th>\n",
              "      <td>[@, firstlast300, wow, an, opinion, is, that, ...</td>\n",
              "      <td>Non_hope_speech</td>\n",
              "      <td>['wow', 'opinion', 'like', 'color']</td>\n",
              "    </tr>\n",
              "    <tr>\n",
              "      <th>3</th>\n",
              "      <td>[wow, !, !, !, !, !, !, !, that, was, so, so, ...</td>\n",
              "      <td>Hope_speech</td>\n",
              "      <td>['wow', 'inspiring', 'incredible', 'speech', '...</td>\n",
              "    </tr>\n",
              "    <tr>\n",
              "      <th>4</th>\n",
              "      <td>[@, falc0n, yea, sorry, i, know, asian, is, an...</td>\n",
              "      <td>Non_hope_speech</td>\n",
              "      <td>['yea', 'sorry', 'know', 'asian', 'ethnicity',...</td>\n",
              "    </tr>\n",
              "    <tr>\n",
              "      <th>...</th>\n",
              "      <td>...</td>\n",
              "      <td>...</td>\n",
              "      <td>...</td>\n",
              "    </tr>\n",
              "    <tr>\n",
              "      <th>2835</th>\n",
              "      <td>[such, fake, sentiment, ., .]</td>\n",
              "      <td>Non_hope_speech</td>\n",
              "      <td>['fake', 'sentiment']</td>\n",
              "    </tr>\n",
              "    <tr>\n",
              "      <th>2836</th>\n",
              "      <td>[@, a, g, black, lives, arent, undervalued, co...</td>\n",
              "      <td>Non_hope_speech</td>\n",
              "      <td>['g', 'black', 'live', 'arent', 'undervalue', ...</td>\n",
              "    </tr>\n",
              "    <tr>\n",
              "      <th>2837</th>\n",
              "      <td>[people, who, pulled, it, down, can, and, will...</td>\n",
              "      <td>Non_hope_speech</td>\n",
              "      <td>['people', 'pull', 'arrest', 'cause', 'damage'...</td>\n",
              "    </tr>\n",
              "    <tr>\n",
              "      <th>2838</th>\n",
              "      <td>[@, aaron, castellanos, it, will, be, a, two, ...</td>\n",
              "      <td>Non_hope_speech</td>\n",
              "      <td>['aaron', 'castellanos', 'two', 'hour', 'movie...</td>\n",
              "    </tr>\n",
              "    <tr>\n",
              "      <th>2839</th>\n",
              "      <td>[why, is, there, no, footage, of, the, riots, ...</td>\n",
              "      <td>Hope_speech</td>\n",
              "      <td>['footage', 'riot', 'violence', 'protester', '...</td>\n",
              "    </tr>\n",
              "  </tbody>\n",
              "</table>\n",
              "<p>2840 rows × 3 columns</p>\n",
              "</div>\n",
              "      <button class=\"colab-df-convert\" onclick=\"convertToInteractive('df-8d3bb058-25b7-4600-a86e-2238b287b588')\"\n",
              "              title=\"Convert this dataframe to an interactive table.\"\n",
              "              style=\"display:none;\">\n",
              "        \n",
              "  <svg xmlns=\"http://www.w3.org/2000/svg\" height=\"24px\"viewBox=\"0 0 24 24\"\n",
              "       width=\"24px\">\n",
              "    <path d=\"M0 0h24v24H0V0z\" fill=\"none\"/>\n",
              "    <path d=\"M18.56 5.44l.94 2.06.94-2.06 2.06-.94-2.06-.94-.94-2.06-.94 2.06-2.06.94zm-11 1L8.5 8.5l.94-2.06 2.06-.94-2.06-.94L8.5 2.5l-.94 2.06-2.06.94zm10 10l.94 2.06.94-2.06 2.06-.94-2.06-.94-.94-2.06-.94 2.06-2.06.94z\"/><path d=\"M17.41 7.96l-1.37-1.37c-.4-.4-.92-.59-1.43-.59-.52 0-1.04.2-1.43.59L10.3 9.45l-7.72 7.72c-.78.78-.78 2.05 0 2.83L4 21.41c.39.39.9.59 1.41.59.51 0 1.02-.2 1.41-.59l7.78-7.78 2.81-2.81c.8-.78.8-2.07 0-2.86zM5.41 20L4 18.59l7.72-7.72 1.47 1.35L5.41 20z\"/>\n",
              "  </svg>\n",
              "      </button>\n",
              "      \n",
              "  <style>\n",
              "    .colab-df-container {\n",
              "      display:flex;\n",
              "      flex-wrap:wrap;\n",
              "      gap: 12px;\n",
              "    }\n",
              "\n",
              "    .colab-df-convert {\n",
              "      background-color: #E8F0FE;\n",
              "      border: none;\n",
              "      border-radius: 50%;\n",
              "      cursor: pointer;\n",
              "      display: none;\n",
              "      fill: #1967D2;\n",
              "      height: 32px;\n",
              "      padding: 0 0 0 0;\n",
              "      width: 32px;\n",
              "    }\n",
              "\n",
              "    .colab-df-convert:hover {\n",
              "      background-color: #E2EBFA;\n",
              "      box-shadow: 0px 1px 2px rgba(60, 64, 67, 0.3), 0px 1px 3px 1px rgba(60, 64, 67, 0.15);\n",
              "      fill: #174EA6;\n",
              "    }\n",
              "\n",
              "    [theme=dark] .colab-df-convert {\n",
              "      background-color: #3B4455;\n",
              "      fill: #D2E3FC;\n",
              "    }\n",
              "\n",
              "    [theme=dark] .colab-df-convert:hover {\n",
              "      background-color: #434B5C;\n",
              "      box-shadow: 0px 1px 3px 1px rgba(0, 0, 0, 0.15);\n",
              "      filter: drop-shadow(0px 1px 2px rgba(0, 0, 0, 0.3));\n",
              "      fill: #FFFFFF;\n",
              "    }\n",
              "  </style>\n",
              "\n",
              "      <script>\n",
              "        const buttonEl =\n",
              "          document.querySelector('#df-8d3bb058-25b7-4600-a86e-2238b287b588 button.colab-df-convert');\n",
              "        buttonEl.style.display =\n",
              "          google.colab.kernel.accessAllowed ? 'block' : 'none';\n",
              "\n",
              "        async function convertToInteractive(key) {\n",
              "          const element = document.querySelector('#df-8d3bb058-25b7-4600-a86e-2238b287b588');\n",
              "          const dataTable =\n",
              "            await google.colab.kernel.invokeFunction('convertToInteractive',\n",
              "                                                     [key], {});\n",
              "          if (!dataTable) return;\n",
              "\n",
              "          const docLinkHtml = 'Like what you see? Visit the ' +\n",
              "            '<a target=\"_blank\" href=https://colab.research.google.com/notebooks/data_table.ipynb>data table notebook</a>'\n",
              "            + ' to learn more about interactive tables.';\n",
              "          element.innerHTML = '';\n",
              "          dataTable['output_type'] = 'display_data';\n",
              "          await google.colab.output.renderOutput(dataTable, element);\n",
              "          const docLink = document.createElement('div');\n",
              "          docLink.innerHTML = docLinkHtml;\n",
              "          element.appendChild(docLink);\n",
              "        }\n",
              "      </script>\n",
              "    </div>\n",
              "  </div>\n",
              "  "
            ]
          },
          "metadata": {},
          "execution_count": 9
        }
      ]
    },
    {
      "cell_type": "code",
      "source": [
        "Train_X, Test_X, Train_Y, Test_Y = model_selection.train_test_split(Corpus['text_final'],Corpus['Label'],test_size=0.3)"
      ],
      "metadata": {
        "id": "680YwlHIYM9Q"
      },
      "execution_count": null,
      "outputs": []
    },
    {
      "cell_type": "code",
      "source": [
        "Train_X = Corpus['text_final']\n",
        "Test_X = Corpus1['text_final']\n",
        "Train_Y = Corpus['Label']\n",
        "Test_Y = Corpus1['Label']"
      ],
      "metadata": {
        "id": "zsRhoNyxeAM2"
      },
      "execution_count": null,
      "outputs": []
    },
    {
      "cell_type": "code",
      "source": [
        "Encoder = LabelEncoder()\n",
        "Train_Y = Encoder.fit_transform(Train_Y)\n",
        "Test_Y = Encoder.fit_transform(Test_Y)"
      ],
      "metadata": {
        "id": "tsF2FwJKYM_i"
      },
      "execution_count": null,
      "outputs": []
    },
    {
      "cell_type": "code",
      "source": [
        "Tfidf_vect = TfidfVectorizer(max_features=5000)\n",
        "Tfidf_vect.fit(Corpus['text_final'])\n",
        "Train_X_Tfidf = Tfidf_vect.transform(Train_X)\n",
        "Test_X_Tfidf = Tfidf_vect.transform(Test_X)"
      ],
      "metadata": {
        "id": "zW1XTThGYNCE"
      },
      "execution_count": null,
      "outputs": []
    },
    {
      "cell_type": "code",
      "source": [
        "print(Tfidf_vect.vocabulary_)"
      ],
      "metadata": {
        "colab": {
          "base_uri": "https://localhost:8080/"
        },
        "id": "mc5CeUndYNEp",
        "outputId": "edcdd060-e1df-4389-8a17-5c36d290cc59"
      },
      "execution_count": null,
      "outputs": [
        {
          "output_type": "stream",
          "name": "stdout",
          "text": [
            "{'radiate': 3632, 'gay': 1820, 'chaotic': 742, 'energy': 1479, 'love': 2685, 'get': 1848, 'kill': 2499, 'use': 4715, 'false': 1607, 'money': 2921, 'life': 2612, 'matter': 2785, 'really': 3674, 'difficult': 1242, 'understand': 4669, 'black': 498, 'live': 2640, 'exclusive': 1565, 'true': 4613, 'general': 1831, 'statement': 4248, 'white': 4855, 'asian': 282, 'context': 954, 'simply': 4070, 'name': 2987, 'movement': 2950, 'high': 2066, 'rate': 3657, 'police': 3441, 'violence': 4759, 'people': 3340, 'refer': 3691, 'behave': 430, 'like': 2618, 'treat': 4591, 'dont': 1329, 'example': 1559, 'whenever': 4845, 'say': 3894, 'racist': 3631, 'american': 169, 'bos': 550, 'know': 2518, 'actually': 56, 'lgbtq': 2602, 'tho': 4479, 'funny': 1793, 'end': 1475, 'larry': 2541, 'argue': 253, 'haha': 1962, 'save': 3887, 'music': 2972, 'lot': 2678, 'army': 260, 'unit': 4686, 'network': 3031, 'engineer': 1484, 'currently': 1076, 'work': 4913, 'teach': 4410, 'men': 2836, 'woman': 4906, 'look': 2665, 'next': 3036, 'want': 4789, 'university': 4692, 'justice': 2472, 'native': 3004, 'government': 1898, 'literally': 2635, 'pay': 3322, 'closet': 836, 'injustice': 2289, 'way': 4810, 'world': 4918, 'someone': 4155, 'dollar': 1318, 'wash': 4799, 'car': 681, 'prime': 3517, 'minister': 2881, 'madonna': 2711, 'would': 4930, 'mother': 2941, 'attitude': 317, 'tea': 4409, 'equal': 1511, 'thing': 4474, 'tech': 4415, 'industry': 2272, 'tough': 4555, 'everyone': 1548, 'push': 3600, 'hard': 1996, 'garbage': 1810, 'blm': 518, 'come': 875, 'around': 262, 'every': 1545, 'year': 4960, 'still': 4274, 'hide': 2064, 'gender': 1829, 'parent': 3284, 'date': 1118, 'friend': 1767, 'already': 150, 'supportive': 4337, 'thankful': 4447, 'find': 1671, 'never': 3033, 'peace': 3328, 'forever': 1718, 'clark': 814, 'thank': 4446, 'salute': 3861, 'brown': 600, 'make': 2720, 'seem': 3946, 'opinion': 3201, 'attack': 313, 'hold': 2100, 'sign': 4057, 'yall': 4951, 'talk': 4393, 'lesbian': 2590, 'think': 4475, 'likely': 2619, 'trans': 4580, 'france': 1748, 'one': 3190, 'dumb': 1367, 'simple': 4068, 'include': 2245, 'basic': 391, 'understanding': 4670, 'english': 1488, 'language': 2538, 'read': 3667, 'comment': 880, 'go': 1877, 'agenda': 96, 'instantly': 2310, 'zero': 4991, 'evidence': 1553, 'need': 3019, 'type': 4637, 'trained': 4575, 'marxist': 2763, 'boom': 542, 'feel': 1643, 'agree': 102, 'sexuality': 3991, 'christian': 782, 'weird': 4827, 'nothing': 3105, 'normally': 3098, 'disney': 1276, 'set': 3980, 'standard': 4236, 'young': 4976, 'girl': 1858, 'fat': 1627, 'guy': 1960, 'happen': 1988, 'skin': 4095, 'racest': 3626, 'rock': 3820, 'voice': 4766, 'actor': 53, 'character': 744, 'fine': 1672, 'let': 2593, 'big': 472, 'hero': 2056, 'six': 4089, 'slightly': 4111, 'japanese': 2403, 'sometimes': 4158, 'mr': 2953, 'incredible': 2254, 'chubby': 786, 'kinda': 2505, 'shit': 4031, 'south': 4180, 'korea': 2522, 'almost': 144, 'school': 3910, 'stop': 4279, 'small': 4120, 'modern': 2913, 'revolution': 3773, 'time': 4514, 'perform': 3350, 'eurovision': 1537, 'tel': 4423, 'wrong': 4938, 'laugh': 2548, 'beat': 410, 'bible': 469, 'presbyterian': 3499, 'homosexuality': 2121, 'everything': 1550, 'help': 2047, 'grow': 1941, 'kid': 2497, 'west': 4833, 'philadelphia': 3379, 'inspire': 2304, 'greatly': 1921, 'much': 2957, 'respect': 3751, 'queen': 3610, 'pop': 3454, 'reasonable': 3676, 'right': 3795, 'si': 4051, 'thats': 4451, 'consider': 940, 'hell': 2044, 'also': 152, 'whole': 4860, 'joke': 2444, 'lol': 2658, 'democrat': 1181, 'follow': 1704, 'path': 3308, 'socialism': 4138, 'political': 3447, 'move': 2949, 'democratic': 1182, 'socialist': 4139, 'party': 3297, 'medium': 2821, 'tell': 4425, 'show': 4046, 'dems': 1192, 'except': 1561, 'fox': 1744, 'news': 3035, 'good': 1888, 'job': 2435, 'sunshine': 4329, 'littlephilly': 2637, 'even': 1539, 'imagine': 2218, 'thought': 4484, 'process': 3534, 'capability': 672, 'shape': 4006, 'especially': 1524, 'topic': 4544, 'fact': 1595, 'hurt': 2171, 'homosexual': 2119, 'whether': 4848, 'believe': 437, 'harm': 2000, 'publicly': 3584, 'state': 4247, 'person': 3363, 'isnt': 2375, 'evil': 1554, 'unless': 4694, 'participant': 3291, 'alot': 149, 'whats': 4839, 'day': 1126, 'depend': 1198, 'less': 2591, 'hit': 2090, 'dog': 1315, 'short': 4038, 'upset': 4710, 'see': 3943, 'nobody': 3085, 'family': 1609, 'career': 684, 'position': 3463, 'poor': 3453, 'video': 4752, 'game': 1801, 'developer': 1223, 'fuck': 1774, 'watch': 4804, 'recent': 3683, 'ago': 101, 'sheriff': 4021, 'politician': 3449, 'whip': 4853, 'rid': 3788, 'officer': 3172, 'keep': 2486, 'knee': 2514, 'neck': 3018, 'minute': 2885, 'second': 3935, 'bernie': 457, 'hood': 2131, 'walk': 4784, 'street': 4288, 'nwhat': 3137, 'insecure': 2296, 'abt': 22, 'liberal': 2606, 'lmao': 2644, 'alison': 131, 'ha': 1961, 'another': 209, 'mom': 2919, 'haircut': 1969, 'seriously': 3974, 'least': 2564, 'could': 1003, 'back': 350, 'sound': 4177, 'kind': 2504, 'act': 46, 'daily': 1088, 'beg': 426, 'put': 3602, 'straight': 4283, 'abuse': 23, 'three': 4490, 'clearly': 824, 'masculine': 2766, 'manner': 2734, 'molly': 2917, 'rebekah': 3678, 'well': 4831, 'therefore': 4469, 'suck': 4315, 'chloe': 774, 'faye': 1636, 'mean': 2810, 'hear': 2028, 'story': 4282, 'certainly': 730, 'herd': 2052, 'mentality': 2839, 'sasha': 3877, 'dumse': 1372, 'god': 1880, 'accept': 28, 'ask': 284, 'cheerleader': 754, 'base': 388, 'human': 2162, 'race': 3625, 'war': 4790, 'hilarious': 2072, 'though': 4483, 'interviewer': 2341, 'hot': 2148, 'glad': 1865, 'toy': 4564, 'science': 3912, 'fit': 1681, 'color': 866, 'proud': 3571, 'ready': 3669, 'meaning': 2811, 'anything': 220, 'exactly': 1558, 'uhhh': 4649, 'pure': 3592, 'yes': 4967, 'atlantismystic': 308, 'walker': 4785, 'sorry': 4173, 'santiago': 3872, 'mouth': 2948, 'crazy': 1030, 'nunderstanding': 3132, 'alex': 124, 'therapy': 4467, 'must': 2975, 'truth': 4617, 'house': 2150, 'market': 2750, 'beyond': 464, 'border': 545, 'globally': 1873, 'legend': 2577, 'shake': 3997, 'beautiful': 414, 'amaze': 160, 'boy': 560, 'label': 2528, 'cat': 702, 'bee': 424, 'tree': 4593, 'fivedrock': 1683, 'idea': 2186, 'side': 4054, 'status': 4254, 'quo': 3620, 'return': 3767, 'zulu': 4997, 'mention': 2841, 'fell': 1645, 'victim': 4745, 'hand': 1981, 'protester': 3567, 'owner': 3250, 'protect': 3564, 'business': 628, 'gon': 1886, 'na': 2981, 'protest': 3566, 'care': 683, 'cop': 981, 'involve': 2356, 'turn': 4626, 'blind': 514, 'eye': 1590, 'responsible': 3758, 'common': 885, 'interest': 2327, 'country': 1012, 'shut': 4049, 'china': 770, 'try': 4618, 'pass': 3299, 'national': 3001, 'anthem': 211, 'bill': 478, 'fun': 1784, 'chinese': 771, 'freedom': 1759, 'everybody': 1546, 'boo': 538, 'support': 4335, 'do': 1307, 'personally': 3366, 'mexico': 2853, 'buy': 637, 'everyday': 1547, 'intelligent': 2321, 'appreciate': 239, 'enough': 1493, 'little': 2636, 'woke': 4904, 'majority': 2719, 'empower': 1468, 'racial': 3628, 'left': 2570, 'tag': 4386, 'wall': 4786, 'many': 2736, 'outlet': 3236, 'paint': 3262, 'fuss': 1795, 'add': 59, 'slogan': 4114, 'intent': 2324, 'scrap': 3918, 'metal': 2848, 'real': 3670, 'racism': 3630, 'fight': 1658, 'equality': 1512, 'juan': 2457, 'williams': 4875, 'peaceful': 3329, 'david': 1122, 'clarke': 815, 'man': 2727, 'wat': 4803, 'absolute': 19, 'leave': 2565, 'milwaukee': 2871, 'ya': 4949, 'fair': 1600, 'balance': 366, 'hannity': 1987, 'ca': 643, 'take': 4389, 'clown': 842, 'speak': 4188, 'period': 3354, 'srbin': 4225, 'stick': 4273, 'european': 1536, 'worry': 4923, 'dislike': 1273, 'last': 2542, 'check': 752, 'caucasian': 709, 'europe': 1535, 'bring': 588, 'africa': 90, 'ugh': 4645, 'hate': 2014, 'cause': 711, 'mind': 2873, 'shes': 4024, 'physic': 3389, 'breanna': 577, 'himmelright': 2076, 'remind': 3721, 'movie': 2951, 'death': 1137, 'become': 420, 'condemn': 914, 'judging': 2461, 'john': 2438, 'blame': 504, 'selfish': 3955, 'bad': 355, 'behaviour': 432, 'trump': 4615, 'sense': 3962, 'reason': 3675, 'leftist': 2571, 'possess': 3466, 'illogical': 2212, 'awkward': 345, 'might': 2861, 'provocateur': 3575, 'community': 889, 'mostly': 2940, 'crime': 1042, 'yet': 4969, 'riot': 3797, 'dress': 1352, 'clothes': 838, 'ok': 3180, 'coherent': 856, 'book': 541, 'several': 3984, 'eris': 1521, 'bell': 441, 'tall': 4395, 'choice': 775, 'fan': 1613, 'disappointed': 1254, 'response': 3756, 'swear': 4361, 'tired': 4520, 'weak': 4813, 'old': 3182, 'raise': 3640, 'toxic': 4563, 'sheeple': 4016, 'perhaps': 3353, 'star': 4238, 'inspirational': 2303, 'burgundy': 620, 'rude': 3836, 'group': 1940, 'reinforce': 3703, 'devotion': 1226, 'wonderful': 4909, 'shameful': 4003, 'oh': 3177, 'wait': 4782, 'outside': 3238, 'inside': 2298, 'reasoning': 3677, 'yell': 4963, 'annie': 204, 'probably': 3532, 'sec': 3934, 'mess': 2846, 'always': 157, 'cry': 1061, 'culture': 1069, 'horrid': 2140, 'christianity': 783, 'choose': 777, 'full': 1782, 'circle': 795, 'sjws': 4092, 'president': 3503, 'waste': 4802, 'min': 2872, 'discuss': 1263, 'distraction': 1291, 'reality': 3672, 'anti': 213, 'place': 3409, 'america': 168, 'anyone': 219, 'past': 3303, 'whoop': 4862, 'break': 576, 'destroy': 1216, 'statue': 4253, 'throw': 4494, 'river': 3806, 'pull': 3586, 'mindless': 2874, 'fool': 1707, 'different': 1240, 'slavery': 4107, 'bristol': 590, 'present': 3501, 'moronic': 2936, 'individual': 2267, 'vote': 4771, 'face': 1592, 'homophobe': 2115, 'hatred': 2018, 'justify': 2473, 'worship': 4925, 'interpret': 2335, 'gross': 1938, 'capitalism': 676, 'create': 1031, 'product': 3535, 'solve': 4151, 'problem': 3533, 'consumer': 949, 'totally': 4553, 'colour': 869, 'ever': 1543, 'meet': 2823, 'womb': 4907, 'panel': 3274, 'together': 4525, 'donald': 1324, 'completely': 899, 'experience': 1575, 'else': 1442, 'senator': 3959, 'sander': 3867, 'suspend': 4356, 'citizenship': 801, 'pretty': 3508, 'appropriate': 241, 'sjw': 4091, 'without': 4898, 'question': 3613, 'motif': 2942, 'dangerous': 1100, 'sincere': 4073, 'ignorance': 2201, 'martin': 2758, 'luther': 2696, 'king': 2507, 'jr': 2456, 'jason': 2405, 'al': 117, 'scream': 3919, 'junior': 2469, 'poeple': 3434, 'die': 1238, 'change': 738, 'pray': 3485, 'longer': 2663, 'power': 3476, 'display': 1280, 'encourage': 1472, 'worth': 4927, 'continue': 956, 'survivor': 4353, 'nto': 3128, 'effort': 1413, 'trauma': 4587, 'lead': 2559, 'mental': 2838, 'illness': 2211, 'suicide': 4323, 'slave': 4105, 'reading': 3668, 'ruler': 3839, 'rampant': 3642, 'hope': 2135, 'satan': 3879, 'earth': 1388, 'yea': 4958, 'bbc': 401, 'censor': 722, 'democracy': 1180, 'cheese': 755, 'conclusion': 913, 'order': 3213, 'maybe': 2796, 'local': 2649, 'hufflepuff': 2156, 'sexual': 3989, 'orientation': 3220, 'wear': 4818, 'max': 2793, 'stand': 4235, 'mayor': 2798, 'please': 3424, 'awesome': 343, 'perfect': 3348, 'answer': 210, 'sir': 4082, 'service': 3978, 'mad': 2707, 'trader': 4568, 'kay': 2485, 'maggie': 2713, 'paul': 3316, 'alm': 141, 'mildly': 2865, 'annoying': 207, 'specie': 4195, 'either': 1421, 'write': 4936, 'bleed': 511, 'catherine': 706, 'great': 1920, 'ii': 2204, 'crown': 1056, 'im': 2214, 'bruh': 601, 'lgbt': 2601, 'ta': 4380, 'chill': 769, 'anywhere': 224, 'threat': 4488, 'aw': 336, 'kiddo': 2498, 'politics': 3450, 'brexit': 582, 'debate': 1138, 'disagree': 1251, 'sophisticated': 4170, 'keith': 2490, 'remove': 3725, 'history': 2089, 'replace': 3731, 'grader': 1904, 'first': 1677, 'holocaust': 2107, 'give': 1863, 'wo': 4902, 'hour': 2149, 'thief': 4472, 'night': 3050, 'quote': 3622, 'scripture': 3923, 'predict': 3491, 'skinny': 4096, 'dicc': 1233, 'booing': 540, 'marco': 2742, 'arreola': 263, 'xbrownskinangelx': 4944, 'repeat': 3729, 'dave': 1120, 'fame': 1608, 'luck': 2689, 'journey': 2455, 'admit': 70, 'george': 1845, 'strength': 4289, 'physical': 3390, 'appear': 234, 'judgement': 2459, 'alone': 146, 'thanks': 4449, 'debbie': 1139, 'inspiration': 2302, 'hint': 2079, 'ppl': 3479, 'middle': 2860, 'east': 1391, 'own': 3249, 'channel': 739, 'bout': 557, 'idc': 2185, 'purple': 3596, 'dude': 1364, 'banana': 373, 'mark': 2749, 'slima': 4112, 'mis': 2888, 'head': 2023, 'important': 2234, 'realise': 3671, 'insult': 2316, 'male': 2725, 'honest': 2122, 'grip': 1936, 'brainless': 566, 'twist': 4634, 'af': 82, 'mtgamerguy': 2956, 'realize': 3673, 'public': 3582, 'joseph': 2451, 'matthew': 2788, 'jesus': 2424, 'deaf': 1132, 'owen': 3247, 'mcdonial': 2803, 'shame': 4002, 'react': 3665, 'wise': 4892, 'ur': 4712, 'lie': 2611, 'forgive': 1721, 'planet': 3414, 'playing': 3422, 'seek': 3944, 'found': 1739, 'bubble': 607, 'jessica': 2422, 'bc': 403, 'brutality': 603, 'profiling': 3543, 'secret': 3937, 'neither': 3026, 'confirm': 922, 'deny': 1196, 'heart': 2031, 'cross': 1054, 'finger': 1673, 'wake': 4783, 'tomorrow': 4536, 'bit': 492, 'cough': 1002, 'spend': 4203, 'half': 1973, 'figure': 1661, 'conversion': 970, 'therapist': 4466, 'title': 4521, 'share': 4007, 'long': 2662, 'nation': 3000, 'remain': 3719, 'meant': 2813, 'gaydar': 1821, 'soon': 4164, 'screen': 3920, 'word': 4911, 'wish': 4894, 'single': 4078, 'nn': 3056, 'husband': 2174, 'wife': 4870, 'child': 766, 'aid': 109, 'morgan': 2932, 'taylor': 4406, 'reply': 3732, 'african': 91, 'scholarship': 3909, 'repress': 3738, 'cant': 670, 'plan': 3412, 'genocide': 1840, 'divide': 1299, 'household': 2151, 'income': 2248, 'slowly': 4116, 'idiocracy': 2192, 'marquez': 2754, 'shoulder': 4042, 'point': 3435, 'level': 2597, 'case': 696, 'jay': 2409, 'top': 4543, 'benjamin': 453, 'abortion': 16, 'focus': 1702, 'listen': 2632, 'arent': 252, 'smart': 4121, 'machine': 2705, 'cook': 976, 'food': 1706, 'defend': 1161, 'rick': 3786, 'personality': 3365, 'something': 4156, 'german': 1846, 'singer': 4077, 'song': 4162, 'youtube': 4979, 'amadeus': 159, 'unfortunately': 4678, 'anymore': 218, 'law': 2553, 'moses': 2938, 'shallow': 4000, 'wan': 4788, 'offend': 3165, 'okay': 3181, 'sam': 3862, 'garcia': 1811, 'uber': 4644, 'keira': 2489, 'canada': 661, 'ritchie': 3803, 'drama': 1348, 'hair': 1968, 'mia': 2855, 'lea': 2558, 'wow': 4933, 'wonder': 4908, 'ban': 372, 'future': 1796, 'rest': 3759, 'mercy': 2843, 'england': 1487, 'oil': 3179, 'stay': 4256, 'annoy': 206, 'respond': 3755, 'imply': 2232, 'eternal': 1528, 'final': 1667, 'run': 3840, 'away': 342, 'bottle': 555, 'embarrass': 1448, 'damage': 1091, 'violent': 4760, 'aggressive': 99, 'towards': 4560, 'wave': 4809, 'coronavirus': 990, 'till': 4511, 'hi': 2063, 'qwerty': 3623, 'main': 2714, 'stream': 4287, 'judge': 2458, 'antifa': 214, 'salary': 3859, 'jzizzles': 2474, 'bisexual': 491, 'yeah': 4959, 'shall': 3999, 'lay': 2554, 'mistranslate': 2899, 'pedophilia': 3334, 'ernest': 1523, 'bennett': 454, 'lose': 2674, 'slander': 4101, 'tool': 4542, 'loser': 2675, 'expose': 1582, 'inspiring': 2306, 'doubt': 1340, 'sure': 4344, 'generation': 1835, 'finish': 1674, 'study': 4300, 'environmental': 1506, 'engineering': 1485, 'research': 3745, 'source': 4179, 'invalid': 2348, 'daughter': 1119, 'uniform': 4682, 'square': 4223, 'sheep': 4015, 'church': 789, 'omg': 3188, 'elder': 1424, 'council': 1005, 'fail': 1598, 'amsterdam': 175, 'shayne': 4013, 'berg': 456, 'hitler': 2091, 'session': 3979, 'musician': 2973, 'regularly': 3702, 'surgery': 4347, 'tape': 4400, 'etc': 1527, 'botox': 554, 'specialist': 4193, 'visit': 4764, 'badly': 360, 'translate': 4582, 'supremacy': 4342, 'famous': 1611, 'female': 1648, 'artist': 272, 'selling': 3957, 'sweet': 4367, 'genuine': 1842, 'bitter': 496, 'sigh': 4055, 'iroor': 2368, 'chant': 740, 'blue': 524, 'strongly': 4296, 'number': 3131, 'humanity': 2163, 'image': 2215, 'kennedy': 2492, 'mensah': 2837, 'self': 3954, 'activist': 52, 'nobel': 3083, 'prize': 3530, 'nbut': 3011, 'dnc': 1306, 'line': 2626, 'mass': 2769, 'sinner': 4081, 'exploit': 1581, 'nyoutube': 3144, 'fr': 1745, 'brave': 572, 'fortunate': 1732, 'jack': 2388, 'parson': 3288, 'lucky': 2690, 'may': 2795, 'nut': 3135, 'clueless': 845, 'dream': 1351, 'hop': 2134, 'couple': 1014, 'college': 862, 'ridiculous': 3792, 'open': 3197, 'free': 1758, 'discussion': 1264, 'perfectly': 3349, 'fear': 1638, 'terror': 4434, 'floyd': 1697, 'insecurity': 2297, 'legit': 2578, 'complain': 895, 'deal': 1133, 'stuff': 4301, 'worenwu': 4912, 'soul': 4175, 'lord': 2672, 'specific': 4196, 'multiple': 2965, 'incident': 2243, 'uk': 4650, 'anarchy': 183, 'bomb': 535, 'doma': 1319, 'pointless': 3436, 'feminist': 1650, 'aggression': 98, 'content': 952, 'population': 3457, 'yo': 4973, 'confusion': 928, 'hong': 2126, 'kong': 2521, 'corporate': 991, 'hello': 2046, 'kitty': 2511, 'recognize': 3686, 'relate': 3706, 'vision': 4763, 'honey': 2125, 'cute': 1080, 'butch': 631, 'maroon': 2753, 'body': 531, 'complexion': 901, 'dear': 1136, 'catch': 704, 'handle': 1983, 'incorrectly': 2252, 'correct': 994, 'criminal': 1043, 'chaos': 741, 'disaster': 1255, 'baby': 348, 'post': 3469, 'allow': 139, 'send': 3960, 'message': 2847, 'nope': 3095, 'city': 802, 'building': 613, 'hospital': 2145, 'tear': 4414, 'jasper': 2406, 'nova': 3109, 'dat': 1116, 'ra': 3624, 'macky': 2706, 'mario': 2748, 'kratt': 2524, 'pic': 3392, 'early': 1386, 'whatever': 4838, 'hundred': 2167, 'thousand': 4486, 'whose': 4864, 'thru': 4495, 'issue': 2380, 'suppose': 4338, 'home': 2109, 'secretary': 3938, 'stupid': 4303, 'demonstrate': 1190, 'disgraceful': 1267, 'govt': 1900, 'yep': 4966, 'major': 2718, 'connection': 933, 'worthy': 4929, 'soros': 4172, 'behind': 433, 'literal': 2634, 'scumbag': 3926, 'lifestyle': 2614, 'minority': 2883, 'demand': 1178, 'extra': 1586, 'hispanic': 2085, 'elderly': 1425, 'bjgvideos': 497, 'ignorant': 2202, 'plantation': 3417, 'excellent': 1560, 'term': 4431, 'pander': 3272, 'steve': 4268, 'brain': 565, 'call': 652, 'tail': 4388, 'genesis': 1837, 'bridge': 585, 'build': 612, 'arch': 248, 'looting': 2670, 'po': 3431, 'incorrect': 2251, 'sherrif': 4022, 'devil': 1224, 'savior': 3891, 'christ': 781, 'demonic': 1188, 'bag': 361, 'rn': 3811, 'innocent': 2294, 'spanish': 4184, 'per': 3342, 'patriot': 3313, 'rob': 3813, 'scientific': 3913, 'proof': 3553, 'universe': 4691, 'natural': 3005, 'chemical': 756, 'reaction': 3666, 'united': 4688, 'total': 4552, 'idiot': 2193, 'happy': 1993, 'trigger': 4604, 'logic': 2654, 'rational': 3660, 'argument': 255, 'jamie': 2399, 'ryan': 3845, 'storey': 4281, 'cyndi': 1082, 'highly': 2068, 'odd': 3159, 'interview': 2340, 'conversation': 968, 'luv': 2697, 'nelson': 3027, 'mandela': 2729, 'london': 2660, 'terrorist': 4436, 'murderer': 2968, 'along': 147, 'nataliah': 2996, 'griffin': 1933, 'eric': 1520, 'instead': 2311, 'unite': 4687, 'guess': 1948, 'part': 3289, 'warm': 4793, 'lee': 2569, 'publish': 3585, 'bunch': 618, 'play': 3420, 'le': 2557, 'labour': 2530, 'pathetic': 3309, 'piece': 3395, 'space': 4183, 'sub': 4306, 'sum': 4325, 'stage': 4230, 'donation': 1326, 'theyre': 4471, 'religious': 3717, 'denial': 1193, 'michelle': 2859, 'obama': 3145, 'priti': 3526, 'patel': 3307, 'forget': 1719, 'heritage': 2053, 'gameplay': 1802, 'central': 725, 'raphael': 3650, 'age': 95, 'bet': 460, 'hater': 2016, 'nail': 2984, 'voter': 4772, 'absolutely': 20, 'apple': 237, 'lift': 2616, 'hey': 2062, 'tune': 4623, 'quick': 3614, 'later': 2545, 'teenage': 4420, 'boot': 544, 'pride': 3514, 'zach': 4985, 'oppose': 3203, 'jimmy': 2428, 'concept': 908, 'relevant': 3713, 'june': 2468, 'usually': 4721, 'pan': 3269, 'ar': 244, 'yellow': 4964, 'sherriff': 4023, 'michael': 2857, 'johnson': 2441, 'start': 4245, 'sentence': 3965, 'jewish': 2426, 'testament': 4438, 'exodus': 1572, 'ashamed': 277, 'ridicule': 3791, 'trash': 4586, 'purposefully': 3598, 'miss': 2893, 'core': 985, 'awareness': 341, 'hopefully': 2136, 'subject': 4307, 'acceptance': 30, 'rather': 3658, 'anger': 194, 'best': 459, 'easy': 1393, 'online': 3193, 'coward': 1024, 'nah': 2983, 'bi': 466, 'jean': 2412, 'bella': 442, 'honestly': 2123, 'ngl': 3037, 'utter': 4723, 'bullshit': 615, 'admire': 69, 'peter': 3371, 'logical': 2655, 'suffer': 4319, 'course': 1017, 'booed': 539, 'discriminate': 1260, 'chicken': 764, 'protesting': 3568, 'wolf': 4905, 'lovely': 2686, 'smash': 4123, 'theodore': 4461, 'haskins': 2011, 'mask': 2767, 'hinder': 2077, 'system': 4375, 'cain': 647, 'mine': 2877, 'delete': 1173, 'prove': 3572, 'scar': 3901, 'learn': 2562, 'adorable': 73, 'bean': 407, 'mature': 2790, 'disrespect': 1284, 'ben': 447, 'lynch': 2700, 'properly': 3557, 'museum': 2971, 'obey': 3146, 'thug': 4497, 'madness': 2710, 'illegal': 2208, 'super': 4330, 'wicked': 4868, 'edward': 1408, 'enslave': 1494, 'charge': 745, 'fucking': 1778, 'living': 2642, 'elizabeth': 1437, 'emanuel': 1447, 'amazing': 161, 'nibzu': 3044, 'nibiru': 3043, 'surprise': 4348, 'obvious': 3153, 'ummm': 4657, 'brother': 599, 'today': 4524, 'honour': 2129, 'policy': 3443, 'commit': 884, 'thread': 4487, 'carefully': 686, 'key': 2494, 'climate': 827, 'document': 1310, 'masamune': 2765, 'guilty': 1954, 'bark': 386, 'loud': 2681, 'pea': 3327, 'troll': 4608, 'force': 1711, 'fast': 1625, 'nthis': 3127, 'horrible': 2139, 'strong': 4295, 'deserve': 1208, 'tryna': 4620, 'winston': 4887, 'windsor': 4884, 'witness': 4899, 'circumstance': 797, 'prevent': 3510, 'entirely': 1501, 'nnbut': 3061, 'bike': 477, 'ace': 40, 'generalize': 1833, 'certain': 729, 'noooo': 3094, 'suit': 4324, 'emotional': 1458, 'fire': 1675, 'drive': 1355, 'guarantee': 1945, 'close': 833, 'often': 3175, 'light': 2617, 'crystal': 1062, 'facial': 1594, 'composure': 903, 'facebook': 1593, 'fist': 1680, 'icon': 2182, 'aka': 115, 'master': 2774, 'since': 4072, 'stamp': 4232, 'welfare': 4830, 'whitey': 4856, 'anyways': 223, 'homophobia': 2117, 'he': 2022, 'ugly': 4646, 'oppress': 3206, 'palestinian': 3268, 'global': 1871, 'pandemic': 3270, 'room': 3827, 'noxisum': 3114, 'cast': 699, 'lake': 2535, 'thinking': 4476, 'respectful': 3753, 'moron': 2935, 'xoxo': 4946, 'moon': 2926, 'precious': 3488, 'ballisticpacifist': 369, 'gosh': 1893, 'homophobic': 2118, 'section': 3940, 'link': 2627, 'adele': 63, 'defense': 1162, 'action': 48, 'serve': 3977, 'air': 113, 'breathe': 579, 'jackson': 2392, 'filthy': 1666, 'rich': 3784, 'celebrity': 718, 'shot': 4040, 'tj': 4523, 'bros': 598, 'circulqr': 796, 'wtf': 4940, 'childhood': 767, 'shawn': 4011, 'pitner': 3406, 'nni': 3063, 'sadly': 3852, 'surround': 4351, 'girlfriend': 1859, 'kiss': 2510, 'lmfao': 2646, 'phase': 3377, 'mighty': 2862, 'behalf': 429, 'decent': 1146, 'asteroid': 299, 'wipe': 4888, 'board': 527, 'rule': 3838, 'leviticus': 2599, 'lady': 2534, 'degenerate': 1170, 'drug': 1360, 'addict': 60, 'interesting': 2329, 'controlled': 964, 'draw': 1349, 'doll': 1317, 'princess': 3519, 'sane': 3870, 'disrespectful': 1285, 'fall': 1605, 'denise': 1194, 'bauer': 400, 'frazier': 1754, 'largely': 2540, 'butt': 633, 'somebody': 4152, 'similar': 4066, 'pose': 3462, 'father': 1629, 'kneel': 2515, 'shout': 4044, 'nice': 3045, 'birth': 488, 'aswell': 302, 'supremacist': 4341, 'pol': 3438, 'price': 3512, 'award': 339, 'explain': 1578, 'mix': 2904, 'fabric': 1591, 'jk': 2431, 'heaven': 2036, 'doctor': 1309, 'far': 1615, 'amen': 166, 'neutral': 3032, 'tf': 4444, 'sit': 4086, 'privileged': 3529, 'as': 274, 'clap': 812, 'mexican': 2852, 'segregation': 3949, 'religion': 3716, 'nwe': 3136, 'corona': 989, 'century': 727, 'conservative': 939, 'dragon': 1347, 'bro': 595, 'student': 4299, 'atheist': 303, 'bully': 616, 'curse': 1077, 'angel': 193, 'brainwash': 567, 'anne': 203, 'toward': 4559, 'russian': 3842, 'ukraine': 4651, 'burn': 621, 'glennda': 1870, 'sutherland': 4359, 'ofcourse': 3163, 'celebrate': 716, 'invite': 2355, 'token': 4529, 'saint': 3857, 'week': 4824, 'increase': 2253, 'western': 4834, 'boris': 548, 'due': 1365, 'brainwashing': 569, 'roman': 3824, 'wire': 4889, 'lockdown': 2651, 'got': 1895, 'bear': 408, 'advocate': 80, 'yup': 4983, 'liberalism': 2607, 'difference': 1239, 'wasnt': 4801, 'marie': 2745, 'counter': 1008, 'watcher': 4805, 'plenty': 3426, 'james': 2398, 'comeback': 876, 'education': 1406, 'moment': 2920, 'degree': 1171, 'associate': 295, 'gladly': 1866, 'accepting': 31, 'robot': 3818, 'detail': 1219, 'truck': 4612, 'thumbnail': 4500, 'safely': 3854, 'confuse': 926, 'ppls': 3480, 'supporter': 4336, 'flag': 1687, 'ni': 3042, 'situation': 4088, 'glorify': 1875, 'eastern': 1392, 'mugabe': 2959, 'phrasing': 3388, 'load': 2647, 'importance': 2233, 'dumbed': 1369, 'dem': 1177, 'cuffed': 1066, 'harverc': 2009, 'delusional': 1176, 'tosh': 4550, 'obscure': 3149, 'uhh': 4648, 'badge': 359, 'liberty': 2608, 'bottom': 556, 'bus': 626, 'two': 4636, 'authority': 328, 'relation': 3707, 'nearly': 3015, 'attention': 316, 'valuable': 4730, 'eff': 1409, 'clue': 844, 'touch': 4554, 'oppression': 3208, 'inequality': 2273, 'stark': 4243, 'mathematical': 2781, 'equation': 1514, 'plus': 3429, 'halsey': 1976, 'ah': 104, 'smell': 4124, 'mile': 2866, 'soak': 4134, 'rainbow': 3639, 'fix': 1684, 'nyes': 3142, 'gamerxj': 1804, 'roll': 3823, 'meter': 2850, 'reach': 3664, 'however': 2154, 'obviously': 3154, 'donate': 1325, 'huge': 2159, 'near': 3014, 'protestors': 3570, 'cut': 1079, 'spread': 4221, 'insulting': 2317, 'extremely': 1588, 'lock': 2650, 'million': 2870, 'saw': 3893, 'abusive': 25, 'torture': 4548, 'decade': 1142, 'assume': 296, 'address': 62, 'concern': 909, 'within': 4897, 'assumption': 298, 'knowledge': 2520, 'whatsoever': 4840, 'historical': 2087, 'record': 3688, 'exist': 1569, 'biblical': 470, 'aside': 283, 'credibility': 1036, 'original': 3222, 'historic': 2086, 'claim': 809, 'cuff': 1065, 'um': 4655, 'complete': 898, 'presidency': 3502, 'chief': 765, 'anyway': 222, 'constantly': 944, 'forward': 1736, 'lack': 2532, 'confidence': 920, 'instagram': 2308, 'normal': 3097, 'scene': 3906, 'cultural': 1068, 'script': 3922, 'glaad': 1864, 'propaganda': 3555, 'chris': 780, 'unnecessary': 4696, 'sarcastic': 3875, 'meh': 2827, 'harsh': 2007, 'perception': 3347, 'feminism': 1649, 'darzo': 1115, 'xx': 4948, 'gary': 1813, 'afraid': 89, 'loot': 2668, 'march': 2741, 'root': 3829, 'extreme': 1587, 'nnthere': 3076, 'organization': 3216, 'actively': 50, 'manipulate': 2731, 'holmes': 2106, 'tom': 4533, 'cost': 1001, 'republican': 3740, 'travel': 4588, 'de': 1129, 'cher': 758, 'transgender': 4581, 'special': 4192, 'oliver': 3184, 'beck': 418, 'filler': 1663, 'favorite': 1633, 'win': 4880, 'platform': 3419, 'military': 2868, 'mountain': 2945, 'demon': 1187, 'britain': 592, 'malcolm': 2724, 'legacy': 2574, 'wealthy': 4816, 'others': 3228, 'nonsense': 3091, 'moan': 2909, 'jew': 2425, 'somewhere': 4160, 'suggest': 4322, 'style': 4305, 'satisfy': 3882, 'shiroyuki': 4029, 'analogy': 178, 'btw': 606, 'usa': 4714, 'korean': 2523, 'geo': 1844, 'water': 4807, 'apology': 230, 'wont': 4910, 'smoke': 4129, 'mirror': 2887, 'bless': 512, 'massacre': 2771, 'sell': 3956, 'whore': 4863, 'slaver': 4106, 'ahhh': 106, 'fuel': 1780, 'fault': 1630, 'leonard': 2589, 'prison': 3524, 'breath': 578, 'crush': 1060, 'plain': 3411, 'hardly': 1999, 'recognise': 3685, 'denmark': 1195, 'purpose': 3597, 'gas': 1814, 'month': 2923, 'irish': 2364, 'cereal': 728, 'box': 559, 'vs': 4774, 'control': 963, 'institution': 2313, 'enemy': 1478, 'wlm': 4901, 'drag': 1345, 'train': 4574, 'lemon': 2586, 'silence': 4061, 'homophobes': 2116, 'callie': 654, 'anonymous': 208, 'behavior': 431, 'overused': 3245, 'didnt': 1237, 'sharpton': 4009, 'lonely': 2661, 'crap': 1028, 'company': 890, 'hire': 2083, 'martini': 2759, 'sad': 3850, 'backwards': 353, 'intelligence': 2320, 'steven': 4269, 'eagle': 1383, 'ethnicity': 1532, 'idol': 2197, 'fate': 1628, 'murder': 2967, 'accuse': 39, 'connie': 934, 'schuiling': 3911, 'dead': 1130, 'clinically': 830, 'struggle': 4298, 'discrimination': 1261, 'chapter': 743, 'excuse': 1566, 'property': 3558, 'album': 121, 'hug': 2158, 'lotta': 2680, 'doesnt': 1314, 'version': 4741, 'karma': 2483, 'aborted': 15, 'sky': 4098, 'ten': 4427, 'blks': 517, 'chicago': 762, 'blk': 516, 'drop': 1358, 'program': 3546, 'vernice': 4738, 'davis': 1123, 'danielle': 1103, 'youre': 4977, 'hateful': 2015, 'disgust': 1269, 'contradict': 958, 'immature': 2221, 'handsome': 1985, 'presence': 3500, 'gaz': 1824, 'mistreat': 2900, 'animation': 199, 'beer': 425, 'weed': 4823, 'plant': 3416, 'ohhh': 3178, 'construction': 947, 'girls': 1860, 'andrea': 187, 'raimey': 3637, 'mama': 2726, 'repent': 3730, 'search': 3930, 'easily': 1390, 'golden': 1883, 'equally': 1513, 'definitely': 1166, 'pink': 3401, 'ilhan': 2206, 'omar': 3186, 'muslim': 2974, 'islam': 2372, 'mosque': 2939, 'represent': 3735, 'persecution': 3362, 'pho': 3382, 'seeker': 3945, 'minor': 2882, 'nnthe': 3075, 'nnit': 3065, 'progress': 3547, 'report': 3733, 'math': 2780, 'unsure': 4700, 'impressed': 2237, 'dark': 1109, 'reporter': 3734, 'tds': 4408, 'pill': 3398, 'hat': 2013, 'thumbs': 4501, 'truly': 4614, 'greg': 1927, 'karl': 2482, 'marx': 2761, 'toronto': 4547, 'lunatic': 2693, 'civil': 803, 'darkness': 1111, 'echo': 1396, 'refuse': 3698, 'request': 3742, 'poison': 3437, 'josh': 2452, 'remember': 3720, 'greta': 1929, 'demonstration': 1191, 'favor': 1632, 'society': 4141, 'ainura': 112, 'cc': 712, 'turtle': 4628, 'immediately': 2222, 'sea': 3928, 'creature': 1035, 'danger': 1099, 'organisation': 3215, 'meme': 2832, 'epic': 1507, 'lem': 2585, 'vulnerable': 4776, 'aerospace': 81, 'graduate': 1905, 'department': 1197, 'impression': 2238, 'limit': 2623, 'describe': 1207, 'desire': 1211, 'alligator': 136, 'factual': 1597, 'nature': 3007, 'grammar': 1907, 'skill': 4094, 'jerde': 2418, 'indian': 2260, 'dictionary': 1236, 'egyptian': 1418, 'babe': 347, 'election': 1427, 'low': 2688, 'inform': 2280, 'apologise': 228, 'stereotype': 4264, 'invent': 2351, 'lazy': 2555, 'field': 1656, 'across': 45, 'folk': 1703, 'shoud': 4041, 'continent': 955, 'determination': 1220, 'nathanael': 2999, 'wade': 4778, 'wikipedia': 4871, 'hill': 2074, 'independent': 2258, 'shoot': 4035, 'protestor': 3569, 'celebs': 719, 'indiana': 2261, 'rise': 3801, 'sweetie': 4369, 'basement': 389, 'australia': 325, 'hillary': 2075, 'hang': 1986, 'ray': 3663, 'harvey': 2010, 'blank': 506, 'mob': 2910, 'french': 1763, 'henry': 2051, 'feeling': 1644, 'target': 4401, 'new': 3034, 'soft': 4143, 'eugene': 1534, 'birukov': 490, 'fully': 1783, 'stir': 4275, 'division': 1301, 'founder': 1741, 'equivalent': 1515, 'participation': 3292, 'unborn': 4664, 'sister': 4084, 'serious': 3973, 'health': 2025, 'liver': 2641, 'conceive': 907, 'spot': 4216, 'yikes': 4970, 'rapist': 3651, 'protection': 3565, 'class': 817, 'ruin': 3837, 'possibly': 3468, 'late': 2543, 'rare': 3653, 'tie': 4507, 'tube': 4621, 'store': 4280, 'apart': 225, 'result': 3762, 'worse': 4924, 'lesson': 2592, 'thy': 4504, 'neighbor': 3022, 'entire': 1500, 'stranger': 4285, 'clean': 822, 'tunstall': 4624, 'la': 2527, 'land': 2537, 'halligan': 1975, 'admiral': 67, 'puppet': 3590, 'succeed': 4312, 'ie': 2199, 'ego': 1416, 'iq': 2360, 'social': 4137, 'distancing': 1288, 'center': 724, 'extent': 1585, 'particular': 3293, 'prayer': 3486, 'donnie': 1328, 'beloved': 446, 'alive': 133, 'ambition': 164, 'tour': 4556, 'dancer': 1097, 'civilisation': 805, 'encouraging': 1474, 'repair': 3727, 'smith': 4128, 'sue': 4318, 'systemic': 4378, 'pain': 3260, 'battle': 399, 'son': 4161, 'johnny': 2440, 'mar': 2739, 'determine': 1221, 'court': 1018, 'convict': 973, 'damn': 1094, 'perspective': 3367, 'narrative': 2993, 'persecute': 3361, 'pick': 3393, 'hole': 2102, 'blacklivesmatter': 499, 'aware': 340, 'impossible': 2236, 'banner': 379, 'although': 155, 'click': 826, 'buzzfeed': 638, 'beauty': 416, 'stem': 4259, 'decide': 1148, 'qualified': 3605, 'actual': 55, 'interact': 2326, 'value': 4731, 'communist': 888, 'page': 3258, 'dad': 1086, 'passion': 3301, 'goldieblox': 1885, 'ted': 4418, 'clear': 823, 'loose': 2667, 'belong': 444, 'software': 4144, 'view': 4754, 'code': 854, 'objective': 3148, 'task': 4402, 'sick': 4052, 'doom': 1330, 'stone': 4278, 'benefit': 451, 'clash': 816, 'theo': 4460, 'colvin': 873, 'deep': 1156, 'nnwhy': 3080, 'non': 3089, 'citizen': 800, 'sandra': 3868, 'bland': 505, 'bitch': 493, 'picture': 3394, 'turkey': 4625, 'current': 1075, 'pal': 3266, 'forcefully': 1713, 'function': 1785, 'anna': 202, 'ignore': 2203, 'wen': 4832, 'jon': 2446, 'saddam': 3851, 'iraq': 2362, 'random': 3645, 'chance': 737, 'mckinney': 2805, 'daddy': 1087, 'cool': 978, 'directly': 1247, 'pandering': 3273, 'none': 3090, 'writer': 4937, 'expectation': 1574, 'openly': 3198, 'engage': 1482, 'nnwhat': 3079, 'liar': 2605, 'coconut': 852, 'prop': 3554, 'bea': 405, 'combat': 874, 'physically': 3391, 'mentally': 2840, 'ngo': 3038, 'website': 4821, 'button': 636, 'information': 2281, 'prof': 3538, 'amount': 174, 'butthurt': 635, 'astound': 300, 'brilliant': 587, 'abort': 14, 'baltimore': 370, 'identify': 2188, 'wheelchair': 4842, 'nnow': 3073, 'join': 2442, 'working': 4916, 'confront': 925, 'india': 2259, 'pursue': 3599, 'strange': 4284, 'google': 1891, 'data': 1117, 'being': 434, 'russia': 3841, 'xd': 4945, 'marshall': 2756, 'tyrone': 4642, 'marcus': 2743, 'heartfelt': 2032, 'overly': 3243, 'imalfie': 2219, 'clarify': 813, 'assuming': 297, 'collapse': 860, 'pete': 3370, 'hawk': 2020, 'scientist': 3914, 'goat': 1879, 'ancient': 185, 'greece': 1923, 'rome': 3826, 'egypt': 1417, 'isi': 2371, 'hypocritical': 2179, 'carry': 693, 'adolf': 71, 'mission': 2894, 'episode': 1510, 'patrick': 3312, 'squid': 4224, 'ward': 4791, 'factor': 1596, 'tip': 4518, 'sweater': 4363, 'theme': 4456, 'topple': 4545, 'cromwell': 1052, 'butcher': 632, 'kris': 2525, 'catholic': 707, 'exact': 1557, 'owo': 3252, 'actblue': 47, 'campaign': 659, 'huh': 2160, 'instinct': 2312, 'horse': 2143, 'floyed': 1698, 'panther': 3278, 'nall': 2986, 'organic': 3214, 'ride': 3790, 'premise': 3497, 'publicity': 3583, 'fundamentally': 1788, 'dismantle': 1274, 'negative': 3021, 'press': 3505, 'practice': 3483, 'accord': 33, 'risk': 3802, 'guest': 1949, 'heterosexual': 2059, 'morally': 2931, 'solid': 4148, 'require': 3743, 'knock': 2517, 'neil': 3025, 'ikr': 2205, 'discourage': 1258, 'aspect': 286, 'louder': 2682, 'smarter': 4122, 'pregnant': 3495, 'invasion': 2350, 'endure': 1477, 'blessing': 513, 'federal': 1640, 'leader': 2560, 'internet': 2334, 'owens': 3248, 'trust': 4616, 'hilary': 2073, 'angry': 196, 'tragic': 4573, 'activism': 51, 'destruction': 1217, 'educate': 1404, 'nationality': 3003, 'adjective': 64, 'noun': 3108, 'moorish': 2929, 'grade': 1903, 'bleach': 509, 'pale': 3267, 'inanimate': 2241, 'object': 3147, 'og': 3176, 'arrington': 265, 'mike': 2864, 'auto': 330, 'jmal': 2432, 'quite': 3618, 'sexually': 3992, 'assault': 290, 'fortnite': 1731, 'pls': 3428, 'uneducated': 4674, 'goodness': 1889, 'sake': 3858, 'apply': 238, 'wide': 4869, 'shop': 4037, 'cuz': 1081, 'conviction': 974, 'ahead': 105, 'biomedical': 485, 'successful': 4314, 'hiding': 2065, 'waffle': 4779, 'begin': 427, 'sexist': 3988, 'predominantly': 3492, 'scared': 3903, 'jaun': 2408, 'cnn': 846, 'penny': 3339, 'camera': 657, 'phrase': 3387, 'confused': 927, 'fake': 1603, 'accent': 27, 'letter': 2595, 'nose': 3101, 'making': 2722, 'step': 4260, 'daniel': 1102, 'notice': 3106, 'uncomfortable': 4666, 'adult': 77, 'hypocrite': 2178, 'sterling': 4267, 'soo': 4163, 'fascism': 1621, 'boring': 547, 'treatment': 4592, 'mistake': 2896, 'partly': 3295, 'driver': 1356, 'engine': 1483, 'expect': 1573, 'psychology': 3579, 'useful': 4716, 'heather': 2035, 'kick': 2496, 'slum': 4117, 'who': 4857, 'almighty': 143, 'trading': 4569, 'trade': 4567, 'enforcement': 1481, 'giant': 1855, 'latino': 2546, 'gun': 1957, 'front': 1770, 'red': 3689, 'louise': 2684, 'veronica': 4739, 'dictate': 1235, 'awful': 344, 'flow': 1695, 'cloud': 840, 'unity': 4689, 'darryl': 1113, 'whoever': 4859, 'dirty': 1248, 'uh': 4647, 'nher': 3040, 'sassy': 3878, 'nhow': 3041, 'switch': 4372, 'hindu': 2078, 'nuclear': 3130, 'volunteer': 4768, 'nick': 3047, 'hometown': 2112, 'sexism': 3987, 'hai': 1965, 'huynh': 2176, 'wind': 4882, 'shell': 4017, 'zealand': 4989, 'design': 1209, 'remotely': 3723, 'myth': 2977, 'wright': 4934, 'hes': 2057, 'nngod': 3062, 'form': 1725, 'acknowledge': 43, 'suffering': 4320, 'specially': 4194, 'lil': 2620, 'somehow': 4154, 'positive': 3464, 'receive': 3682, 'tribe': 4601, 'diane': 1232, 'abbott': 3, 'employer': 1466, 'indeed': 2256, 'disgrace': 1266, 'vice': 4744, 'friends': 1769, 'darker': 1110, 'shade': 3994, 'july': 2464, 'idk': 2196, 'pansexual': 3276, 'offensive': 3169, 'ai': 108, 'bot': 551, 'conscious': 937, 'dump': 1371, 'able': 10, 'fish': 1679, 'christopher': 785, 'profit': 3544, 'area': 251, 'quit': 3617, 'warped': 4797, 'samita': 3863, 'sarkar': 3876, 'statistic': 4250, 'percentage': 3346, 'ability': 9, 'demographic': 1185, 'welcome': 4829, 'industrial': 2271, 'philippine': 3380, 'drawing': 1350, 'semester': 3958, 'entertainer': 1498, 'gal': 1800, 'genderfluid': 1830, 'fluid': 1700, 'holy': 2108, 'calm': 655, 'dam': 1090, 'fortune': 1733, 'grievance': 1932, 'broken': 596, 'monument': 2924, 'controversial': 965, 'fragile': 1746, 'honor': 2127, 'mindset': 2876, 'stupidity': 4304, 'hose': 2144, 'specifically': 4197, 'mcdonald': 2802, 'grant': 1914, 'thirteen': 4478, 'dumbass': 1368, 'professional': 3540, 'finally': 1668, 'paysour': 3325, 'bloody': 522, 'implies': 2231, 'bledsoe': 510, 'provide': 3574, 'gotcha': 1896, 'funeral': 1791, 'bother': 552, 'electric': 1428, 'mistaken': 2897, 'maoist': 2737, 'ideology': 2190, 'erase': 1518, 'rewrite': 3775, 'hijack': 2071, 'gain': 1799, 'fellow': 1646, 'shirt': 4030, 'dan': 1095, 'raw': 3662, 'four': 1742, 'inspired': 2305, 'alice': 128, 'dees': 1157, 'rioter': 3798, 'advantage': 78, 'compassionate': 894, 'insane': 2295, 'reparation': 3728, 'globalist': 1872, 'capitalist': 677, 'road': 3812, 'steal': 4257, 'co': 847, 'leo': 2588, 'worm': 4921, 'nit': 3052, 'accurate': 37, 'analysis': 179, 'terrible': 4432, 'sugar': 4321, 'coat': 849, 'spelling': 4202, 'cod': 853, 'stan': 4233, 'swedish': 4365, 'brit': 591, 'quality': 3607, 'enjoy': 1489, 'jesse': 2421, 'pollack': 3452, 'favourite': 1635, 'trouble': 4610, 'abandon': 2, 'baden': 358, 'jones': 2448, 'mixed': 2905, 'sin': 4071, 'expression': 1584, 'piss': 3403, 'tax': 4405, 'passionate': 3302, 'whyatt': 4866, 'simon': 4067, 'keeper': 2487, 'achieve': 41, 'stomach': 4277, 'haired': 1970, 'depict': 1200, 'ethnic': 1531, 'supposedly': 4339, 'privilege': 3528, 'harass': 1994, 'neighbour': 3024, 'cone': 918, 'chip': 773, 'choke': 776, 'phd': 3378, 'convert': 971, 'hurting': 2173, 'segment': 3947, 'regard': 3699, 'irrelevant': 2369, 'suspicion': 4357, 'asphyxiation': 287, 'pressure': 3506, 'vera': 4737, 'wing': 4885, 'percent': 3345, 'fascist': 1622, 'nnwe': 3078, 'jump': 2465, 'window': 4883, 'burning': 622, 'net': 3030, 'saying': 3896, 'basis': 393, 'emmett': 1455, 'elect': 1426, 'advice': 79, 'olivia': 3185, 'riggs': 3794, 'hun': 2166, 'mra': 2954, 'nthe': 3123, 'scary': 3904, 'nyou': 3143, 'onto': 3194, 'nand': 2989, 'lego': 2581, 'teenager': 4421, 'ziggy': 4992, 'zolik': 4996, 'unfair': 4676, 'stephanie': 4262, 'mate': 2776, 'badass': 356, 'countless': 1011, 'scale': 3897, 'maverick': 2792, 'emilia': 1451, 'rhetorical': 3779, 'meghan': 2826, 'queer': 3612, 'username': 4719, 'andrew': 190, 'sleep': 4108, 'commandment': 879, 'article': 270, 'ahhhh': 107, 'disconnect': 1256, 'kindness': 2506, 'partially': 3290, 'moral': 2930, 'migrant': 2863, 'passage': 3300, 'mood': 2925, 'rebuild': 3680, 'bronze': 597, 'british': 594, 'homeland': 2110, 'october': 3158, 'oct': 3157, 'complaint': 897, 'candace': 666, 'thomas': 4480, 'definition': 1167, 'pandemonium': 3271, 'wayne': 4811, 'bend': 449, 'ironic': 2365, 'rip': 3800, 'slur': 4118, 'eventually': 1542, 'rub': 3834, 'comfortable': 878, 'classify': 819, 'lad': 2533, 'gregory': 1928, 'robert': 3815, 'lately': 2544, 'flight': 1691, 'influence': 2278, 'candidate': 668, 'avoid': 335, 'triangle': 4599, 'verse': 4740, 'systematic': 4376, 'joannot': 2434, 'fampionona': 1612, 'segregate': 3948, 'cite': 799, 'yesterday': 4968, 'goal': 1878, 'dominic': 1323, 'fetus': 1653, 'seattle': 3932, 'ancestor': 184, 'ther': 4464, 'match': 2775, 'descendant': 1206, 'melt': 2830, 'chat': 750, 'dr': 1344, 'humble': 2164, 'nasty': 2995, 'camp': 658, 'legal': 2575, 'norm': 3096, 'workplace': 4917, 'tongue': 4539, 'farmer': 1619, 'purge': 3594, 'vaccine': 4726, 'offence': 3164, 'warrior': 4798, 'quota': 3621, 'resource': 3750, 'beast': 409, 'domestic': 1320, 'commercial': 881, 'immigrant': 2223, 'shouldnt': 4043, 'email': 1446, 'phone': 3385, 'flat': 1690, 'brandonshmandon': 571, 'tomboy': 4534, 'vibe': 4743, 'demolish': 1186, 'credit': 1037, 'regardless': 3700, 'frederick': 1757, 'uzokwe': 4725, 'solution': 4150, 'raven': 3661, 'inclusive': 2247, 'couldnt': 1004, 'vid': 4751, 'tbh': 4407, 'meanwhile': 2814, 'mock': 2911, 'international': 2333, 'seize': 3950, 'upon': 4706, 'misconduct': 2890, 'event': 1541, 'elite': 1436, 'retire': 3765, 'survive': 4352, 'besides': 458, 'internal': 2330, 'felt': 1647, 'superior': 4332, 'anybody': 217, 'aaron': 1, 'lehman': 2583, 'lmaoo': 2645, 'wheeze': 4844, 'themooch': 4458, 'disown': 1278, 'megan': 2825, 'anderson': 186, 'dm': 1304, 'insta': 2307, 'trayvon': 4590, 'granny': 1913, 'patch': 3306, 'alarm': 120, 'organize': 3217, 'policeman': 3442, 'yr': 4981, 'clan': 811, 'sentiment': 3966, 'dance': 1096, 'grateful': 1916, 'ice': 2181, 'dominated': 1322, 'dominate': 1321, 'art': 268, 'player': 3421, 'sacrifice': 3849, 'insyirah': 2318, 'ami': 171, 'list': 2631, 'coin': 857, 'pastor': 3304, 'tolerance': 4531, 'bent': 455, 'cell': 720, 'separation': 3970, 'scheme': 3907, 'dive': 1296, 'conquer': 936, 'aim': 110, 'defeat': 1160, 'hammer': 1978, 'memorialize': 2834, 'colston': 871, 'retard': 3763, 'putin': 3603, 'vandalism': 4733, 'shift': 4026, 'mcbride': 2800, 'prejudice': 3496, 'personal': 3364, 'attribute': 321, 'computer': 905, 'genuinely': 1843, 'sort': 4174, 'threaten': 4489, 'hippo': 2081, 'exclude': 1564, 'refreshing': 3696, 'beyonce': 463, 'washington': 4800, 'lip': 2629, 'shortly': 4039, 'otherwise': 3229, 'mugieq': 2960, 'tik': 4510, 'tok': 4528, 'scumbags': 3927, 'controversy': 966, 'bigot': 474, 'mater': 2777, 'kkk': 2512, 'eat': 1394, 'logo': 2657, 'magazine': 2712, 'afford': 87, 'painting': 3264, 'cold': 859, 'symbol': 4373, 'classic': 818, 'anthony': 212, 'nooo': 3093, 'clinton': 831, 'timothy': 4515, 'homework': 2113, 'outstanding': 3239, 'differently': 1241, 'weight': 4826, 'height': 2041, 'model': 2912, 'noelle': 3086, 'entitle': 1503, 'viewpoint': 4755, 'sooo': 4166, 'sleepy': 4109, 'evolve': 1555, 'dus': 1376, 'exists': 1571, 'lethal': 2594, 'twenty': 4632, 'idiots': 2195, 'park': 3286, 'tone': 4538, 'thier': 4473, 'ethic': 1530, 'previous': 3511, 'decline': 1152, 'prefer': 3493, 'climb': 828, 'biologically': 484, 'liu': 2639, 'dare': 1108, 'jim': 2427, 'byrne': 642, 'ought': 3231, 'classmate': 820, 'relationship': 3708, 'despise': 1214, 'basically': 392, 'existence': 1570, 'fucken': 1775, 'erect': 1519, 'significance': 4059, 'peacefully': 3331, 'deface': 1158, 'abide': 8, 'consequence': 938, 'acceptable': 29, 'elephant': 1432, 'spotlight': 4217, 'weather': 4819, 'rl': 3809, 'tony': 4541, 'timpa': 4516, 'srsly': 4226, 'ostracize': 3227, 'saville': 3890, 'da': 1085, 'gospel': 1894, 'happiness': 1992, 'elmas': 1440, 'yiyen': 4972, 'zengin': 4990, 'şişman': 4999, 'bye': 641, 'everywhere': 1552, 'holiday': 2103, 'imo': 2226, 'chain': 732, 'complex': 900, 'capable': 673, 'third': 4477, 'reverse': 3770, 'spit': 4211, 'drink': 1353, 'cash': 698, 'everett': 1544, 'illegally': 2209, 'arrest': 264, 'background': 351, 'extremist': 1589, 'craig': 1027, 'thumb': 4499, 'id': 2184, 'courageous': 1016, 'jealous': 2410, 'dole': 1316, 'meth': 2851, 'tiny': 4517, 'radical': 3633, 'msm': 2955, 'coverage': 1022, 'mohammed': 2915, 'voting': 4773, 'el': 1422, 'luke': 2692, 'cooper': 979, 'portray': 3460, 'giordano': 1857, 'backlash': 352, 'cure': 1072, 'naomi': 2990, 'useless': 4717, 'wealth': 4815, 'upbringing': 4703, 'relative': 3709, 'blood': 521, 'royal': 3832, 'comprehend': 904, 'greek': 1924, 'mythology': 2979, 'count': 1007, 'demonrats': 1189, 'scott': 3917, 'distort': 1289, 'colony': 865, 'philosophy': 3381, 'psychological': 3578, 'bone': 537, 'jeremy': 2419, 'gotten': 1897, 'fashionable': 1624, 'stats': 4252, 'freely': 1761, 'available': 333, 'burger': 619, 'shooting': 4036, 'overall': 3241, 'bias': 467, 'encounter': 1471, 'operate': 3200, 'role': 3822, 'rivas': 3805, 'robinson': 3816, 'unbelievable': 4662, 'beginning': 428, 'trend': 4594, 'former': 1726, 'judgemental': 2460, 'praise': 3484, 'interested': 2328, 'conspiracy': 942, 'theorist': 4462, 'parade': 3282, 'intervene': 2339, 'organizer': 3218, 'intention': 2325, 'beating': 412, 'wrongly': 4939, 'rubbish': 3835, 'alllivesmatter': 137, 'twitter': 4635, 'doxxing': 1343, 'baily': 364, 'churchill': 790, 'starve': 4246, 'miner': 2878, 'griffith': 1934, 'sarcasm': 3874, 'richard': 3785, 'curious': 1073, 'carol': 690, 'danvers': 1105, 'whining': 4851, 'italian': 2383, 'chick': 763, 'gayer': 1822, 'slow': 4115, 'screw': 3921, 'nmaybe': 3055, 'constant': 943, 'trap': 4585, 'jens': 2417, 'interrupt': 2337, 'hollywood': 2105, 'pretend': 3507, 'pc': 3326, 'valid': 4728, 'insightful': 2300, 'franco': 1750, 'speech': 4200, 'nnlike': 3066, 'nnnblack': 3069, 'nnand': 3058, 'nowhere': 3113, 'seriouslynnthis': 3975, 'ass': 289, 'allnnthats': 138, 'sex': 3986, 'intimidate': 2342, 'unable': 4659, 'formulate': 1727, 'hairstyle': 1971, 'adrian': 76, 'looter': 2669, 'wound': 4932, 'tagerius': 4387, 'winchester': 4881, 'sarah': 3873, 'arm': 258, 'canadian': 662, 'moonlight': 2927, 'intro': 2344, 'resident': 3747, 'stance': 4234, 'intolerant': 2343, 'britian': 593, 'adore': 74, 'interpretation': 2336, 'abomination': 13, 'approve': 242, 'barbie': 383, 'electronics': 1430, 'cheap': 751, 'intellectual': 2319, 'charity': 746, 'fund': 1786, 'harvard': 2008, 'stab': 4228, 'tojo': 4527, 'victimize': 4747, 'knowitall': 2519, 'johnathan': 2439, 'nostar': 3103, 'copy': 984, 'imogen': 2227, 'shoe': 4034, 'comparison': 892, 'compare': 891, 'mum': 2966, 'clip': 832, 'cruel': 1058, 'judgmental': 2462, 'ghetto': 1854, 'fallacy': 1606, 'dunno': 1374, 'hating': 2017, 'punish': 3589, 'corner': 988, 'professor': 3541, 'ive': 2386, 'grown': 1942, 'foundation': 1740, 'nhe': 3039, 'understood': 4672, 'lefty': 2572, 'marxism': 2762, 'nshe': 3118, 'fighter': 1659, 'covid': 1023, 'isa': 2370, 'lecture': 2568, 'poll': 3451, 'constitution': 945, 'snake': 4131, 'phony': 3386, 'vile': 4757, 'wilson': 4879, 'lebron': 2567, 'convince': 975, 'cover': 1021, 'essentially': 1525, 'texas': 4441, 'diverse': 1297, 'resist': 3749, 'japan': 2402, 'motivate': 2943, 'faith': 1602, 'jackeboy': 2389, 'infect': 2275, 'safe': 3853, 'dragman': 1346, 'bob': 529, 'buster': 629, 'petition': 3372, 'woah': 4903, 'twice': 4633, 'chan': 736, 'block': 520, 'affect': 84, 'wwe': 4942, 'earn': 1387, 'marry': 2755, 'thompson': 4481, 'define': 1164, 'battery': 398, 'famine': 1610, 'libs': 2609, 'notion': 3107, 'unique': 4684, 'responsibility': 3757, 'marc': 2740, 'rap': 3649, 'collective': 861, 'guilt': 1953, 'horror': 2142, 'speaker': 4189, 'fee': 1641, 'stress': 4290, 'confident': 921, 'mechanical': 2818, 'develop': 1222, 'attraction': 319, 'dallas': 1089, 'ambuscade': 165, 'shadowsupra': 3996, 'blow': 523, 'bed': 423, 'alright': 151, 'crook': 1053, 'epilith': 1509, 'site': 4087, 'test': 4437, 'serpent': 3976, 'town': 4562, 'deem': 1155, 'critic': 1047, 'panji': 3275, 'rizki': 3808, 'epidemic': 1508, 'reflection': 3694, 'throat': 4492, 'belief': 435, 'bull': 614, 'teacher': 4411, 'chalk': 733, 'corrupt': 998, 'indoctrinate': 2268, 'option': 3212, 'silly': 4064, 'nnyou': 3081, 'door': 1331, 'involvement': 2358, 'hypocrisy': 2177, 'maximum': 2794, 'complicate': 902, 'genius': 1839, 'disable': 1249, 'disparity': 1279, 'victimhood': 4746, 'unarmed': 4661, 'stun': 4302, 'enter': 1496, 'ear': 1384, 'apieceoftoast': 227, 'ground': 1939, 'oxygen': 3253, 'follower': 1705, 'aww': 346, 'better': 461, 'express': 1583, 'fuckin': 1777, 'jules': 2463, 'pfp': 3376, 'retired': 3766, 'pagan': 3257, 'claire': 810, 'mcfadyen': 2804, 'illiterate': 2210, 'heard': 2029, 'decision': 1149, 'rally': 3641, 'busy': 630, 'mdna': 2808, 'five': 1682, 'officially': 3174, 'shannon': 4005, 'wdym': 4812, 'careful': 685, 'roost': 3828, 'amuse': 176, 'refund': 3697, 'private': 3527, 'pepsi': 3341, 'atlas': 309, 'team': 4413, 'grandchild': 1908, 'scare': 3902, 'suprised': 4343, 'brianna': 584, 'stereotypical': 4265, 'custody': 1078, 'member': 2831, 'jail': 2395, 'chinskins': 772, 'corinthian': 987, 'omfg': 3187, 'dust': 1377, 'sun': 4327, 'buffalo': 611, 'soldier': 4146, 'release': 3712, 'conflict': 923, 'unicorn': 4681, 'training': 4576, 'inner': 2292, 'farce': 1617, 'automatically': 331, 'nnif': 3064, 'dishonest': 1271, 'nthat': 3122, 'corruption': 999, 'nthey': 3126, 'coz': 1025, 'honesty': 2124, 'promise': 3550, 'ntrump': 3129, 'ig': 2200, 'selena': 3953, 'pocket': 3433, 'gravois': 1919, 'andreas': 188, 'bbm': 402, 'qualify': 3606, 'versus': 4742, 'njust': 3053, 'umm': 4656, 'worldwide': 4920, 'gap': 1809, 'zion': 4994, 'prepare': 3498, 'aint': 111, 'illuminati': 2213, 'card': 682, 'fort': 1729, 'tower': 4561, 'possible': 3467, 'pyramid': 3604, 'massive': 2773, 'concert': 911, 'ticket': 4506, 'sale': 3860, 'sentimental': 3967, 'dismiss': 1275, 'counterprotests': 1010, 'propose': 3561, 'shitty': 4032, 'pat': 3305, 'idiotic': 2194, 'rasist': 3655, 'prince': 3518, 'origin': 3221, 'virus': 4762, 'hoax': 2098, 'prosecute': 3562, 'thx': 4503, 'arab': 245, 'ownership': 3251, 'phobia': 3383, 'hiring': 2084, 'zara': 4988, 'hassan': 2012, 'typically': 4639, 'universal': 4690, 'among': 172, 'fantastic': 1614, 'pit': 3405, 'rite': 3804, 'forgot': 1723, 'mainly': 2715, 'abolition': 12, 'clever': 825, 'plot': 3427, 'whilst': 4849, 'vast': 4735, 'witch': 4896, 'rlly': 3810, 'large': 2539, 'inherently': 2285, 'tyrant': 4641, 'attract': 318, 'intense': 2323, 'hudson': 2155, 'birt': 487, 'align': 130, 'victor': 4748, 'strike': 4292, 'rae': 3635, 'timax': 4513, 'albus': 122, 'mj': 2906, 'pertain': 3368, 'thenaturelover': 4459, 'stalin': 4231, 'bury': 625, 'tadhg': 4385, 'scanlon': 3900, 'nthanks': 3121, 'inappropriate': 2242, 'karen': 2481, 'typical': 4638, 'direction': 1246, 'constructive': 948, 'promote': 3551, 'delusion': 1175, 'systematically': 4377, 'structure': 4297, 'enforce': 1480, 'wild': 4872, 'down': 1341, 'elaborate': 1423, 'convenient': 967, 'fyi': 1797, 'bs': 605, 'alan': 119, 'offense': 3168, 'miserable': 2891, 'thus': 4502, 'ofc': 3162, 'hella': 2045, 'jatma': 2407, 'aspiration': 288, 'fbi': 1637, 'scandal': 3899, 'mainstream': 2716, 'expert': 1577, 'bame': 371, 'starchild': 4240, 'hum': 2161, 'indigo': 2265, 'sensitive': 3963, 'testicle': 4439, 'correctness': 997, 'jeff': 2414, 'jordan': 2450, 'ing': 2283, 'psalm': 3576, 'affront': 88, 'ingredient': 2284, 'green': 1925, 'cáca': 1084, 'milis': 2867, 'sa': 3846, 'seomra': 3968, 'spraoi': 4219, 'boomer': 543, 'somethingtwice': 4157, 'op': 3196, 'armed': 259, 'brutal': 602, 'adam': 58, 'eve': 1538, 'spell': 4201, 'affirmative': 86, 'everytime': 1551, 'empire': 1463, 'disguise': 1268, 'warfare': 4792, 'creator': 1034, 'impressive': 2239, 'colonial': 864, 'financial': 1670, 'linda': 2625, 'unlike': 4695, 'mccain': 2801, 'sacred': 3848, 'deed': 1154, 'neighborhood': 3023, 'jerk': 2420, 'architect': 249, 'portuguese': 3461, 'recently': 3684, 'boat': 528, 'em': 1445, 'hm': 2094, 'inzodda': 2359, 'destructive': 1218, 'hmm': 2095, 'barack': 381, 'office': 3171, 'administration': 65, 'economy': 1399, 'prior': 3522, 'originally': 3223, 'translation': 4583, 'daves': 1121, 'thay': 4452, 'memorial': 2833, 'failure': 1599, 'zackary': 4987, 'shepard': 4019, 'web': 4820, 'diana': 1231, 'emoji': 1456, 'emperor': 1461, 'tourr': 4557, 'invalidate': 2349, 'horrific': 2141, 'spirit': 4210, 'hahahaha': 1964, 'birthday': 489, 'tolerate': 4532, 'text': 4442, 'andy': 192, 'erm': 1522, 'loving': 2687, 'astute': 301, 'cingulus': 794, 'atleast': 310, 'excited': 1563, 'shy': 4050, 'shine': 4027, 'shadow': 3995, 'regret': 3701, 'quiz': 3619, 'measure': 2815, 'ffs': 1654, 'disgusting': 1270, 'grandfather': 1909, 'fought': 1738, 'moore': 2928, 'billionaire': 481, 'corporation': 992, 'smh': 4126, 'jake': 2396, 'riviera': 3807, 'indicate': 2263, 'biden': 471, 'killer': 2500, 'breonna': 581, 'nif': 3049, 'deflect': 1168, 'plastic': 3418, 'gee': 1825, 'tantrum': 4398, 'bandit': 375, 'deceive': 1144, 'takeover': 4390, 'tim': 4512, 'nely': 3028, 'candelario': 667, 'congrats': 929, 'governor': 1899, 'guido': 1951, 'farage': 1616, 'kimmel': 2503, 'worthless': 4928, 'sack': 3847, 'friendly': 1768, 'undermine': 4668, 'permit': 3358, 'offer': 3170, 'naturally': 3006, 'temple': 4426, 'prima': 3516, 'materia': 2778, 'nthere': 3125, 'investigation': 2354, 'agreement': 103, 'double': 1339, 'glam': 1867, 'solo': 4149, 'potential': 3472, 'motivation': 2944, 'adorufu': 75, 'hitorā': 2092, 'anime': 200, 'anarchist': 182, 'belly': 443, 'empty': 1469, 'attend': 315, 'excessive': 1562, 'seven': 3983, 'ill': 2207, 'agnostic': 100, 'merely': 2844, 'stephen': 4263, 'encouragement': 1473, 'theherpes': 4455, 'lonnie': 2664, 'stevens': 4270, 'worried': 4922, 'sauce': 3884, 'lost': 2677, 'bird': 486, 'funding': 1790, 'infiltrate': 2277, 'boycott': 561, 'sherif': 4020, 'naive': 2985, 'apparently': 232, 'spout': 4218, 'asia': 281, 'rapper': 3652, 'generational': 1836, 'overcome': 3242, 'lynn': 2701, 'there': 4468, 'gaslight': 1815, 'stanford': 4237, 'pity': 3407, 'twat': 4630, 'abdallah': 4, 'shakeel': 3998, 'mankind': 2733, 'explanation': 1579, 'era': 1517, 'superiority': 4333, 'killua': 2502, 'zoldyk': 4995, 'ndo': 3013, 'cops': 983, 'tragedy': 4572, 'paper': 3280, 'wich': 4867, 'carson': 694, 'theory': 4463, 'declaration': 1150, 'independence': 2257, 'ellen': 1438, 'agent': 97, 'rely': 3718, 'fuk': 1781, 'artifact': 271, 'unapologetically': 4660, 'powerful': 3477, 'incredibly': 2255, 'reference': 3692, 'gf': 1850, 'performance': 3351, 'audience': 322, 'splash': 4212, 'ton': 4537, 'heh': 2040, 'multidarkzen': 2964, 'pawn': 3321, 'sánchez': 4379, 'joshua': 2453, 'fernandes': 1652, 'brazil': 574, 'ad': 57, 'yamigajw': 4952, 'killing': 2501, 'rwanda': 3844, 'afro': 93, 'critical': 1048, 'loss': 2676, 'precisely': 3489, 'nurse': 3133, 'patient': 3310, 'healthy': 2027, 'carola': 691, 'lavin': 2552, 'antizionist': 216, 'israel': 2377, 'bd': 404, 'gezinterhayt': 1849, 'season': 3931, 'representative': 3737, 'dilute': 1244, 'straw': 4286, 'sing': 4076, 'gaga': 1798, 'zimbabwe': 4993, 'jacob': 2393, 'tran': 4579, 'bailey': 363, 'actress': 54, 'mouse': 2946, 'concerned': 910, 'clinic': 829, 'outta': 3240, 'frank': 1751, 'sang': 3871, 'called': 653, 'beautifully': 415, 'sow': 4182, 'swing': 4371, 'accountable': 36, 'buck': 608, 'grief': 1931, 'hall': 1974, 'disease': 1265, 'merit': 2845, 'nlook': 3054, 'explode': 1580, 'teen': 4419, 'economics': 1398, 'farm': 1618, 'tv': 4629, 'germany': 1847, 'seduce': 3942, 'attempt': 314, 'debunk': 1141, 'dylan': 1380, 'lincoln': 2624, 'crimminal': 1044, 'norman': 3099, 'north': 3100, 'charles': 747, 'execute': 1567, 'gold': 1882, 'terrorism': 4435, 'sailor': 3856, 'greeting': 1926, 'helpful': 2048, 'principle': 3520, 'december': 1145, 'nwhen': 3138, 'manifesto': 2730, 'lyon': 2702, 'ironically': 2366, 'november': 3111, 'creation': 1032, 'finance': 1669, 'outdated': 3234, 'jonathan': 2447, 'labrae': 2531, 'kurt': 2526, 'worldly': 4919, 'suddenly': 4317, 'matternall': 2787, 'mindprism': 2875, 'educated': 1405, 'randall': 3644, 'sincerely': 4074, 'powerless': 3478, 'ally': 140, 'ideal': 2187, 'bow': 558, 'bio': 483, 'nso': 3119, 'flip': 1692, 'necessary': 3017, 'supply': 4334, 'technical': 4416, 'francesca': 1749, 'opposite': 3204, 'effect': 1410, 'subscribe': 4308, 'divisive': 1302, 'levi': 2598, 'optimistic': 3211, 'criticize': 1051, 'ricky': 3787, 'maria': 2744, 'lorenna': 2673, 'entitlement': 1504, 'owe': 3246, 'irony': 2367, 'downplay': 1342, 'samuel': 3864, 'hernandez': 2055, 'grandma': 1910, 'satanic': 3880, 'spike': 4207, 'nazi': 3008, 'architecture': 250, 'cancer': 665, 'idgaf': 2191, 'abhorrent': 6, 'romantic': 3825, 'compassion': 893, 'tire': 4519, 'gravity': 1918, 'entertain': 1497, 'pilot': 3399, 'plane': 3413, 'petroleum': 3374, 'harrypotter': 2006, 'oppressed': 3207, 'clayface': 821, 'madge': 2709, 'virtue': 4761, 'signal': 4058, 'desperate': 1212, 'bush': 627, 'toss': 4551, 'canal': 663, 'smile': 4127, 'average': 334, 'murican': 2969, 'theres': 4470, 'official': 3173, 'constitutional': 946, 'jin': 2429, 'imma': 2220, 'perry': 3360, 'joint': 2443, 'taco': 4382, 'gaming': 1805, 'ups': 4709, 'eh': 1419, 'openworld': 3199, 'heartless': 2033, 'goldie': 1884, 'silver': 4065, 'han': 1980, 'misunderstanding': 2902, 'pig': 3396, 'blanket': 507, 'fry': 1772, 'bacon': 354, 'impose': 2235, 'polite': 3445, 'incompetent': 2250, 'pet': 3369, 'legos': 2582, 'quiet': 3616, 'anja': 201, 'partner': 3296, 'happens': 1990, 'marko': 2752, 'vujovic': 4775, 'whereas': 4846, 'elijah': 1434, 'collins': 863, 'fortyfore': 1734, 'understands': 4671, 'size': 4090, 'outfit': 3235, 'orleans': 3225, 'obsessed': 3152, 'ality': 132, 'khaver': 2495, 'paver': 3319, 'maintain': 2717, 'schmidt': 3908, 'arizona': 257, 'abrams': 17, 'lion': 2628, 'inman': 2291, 'depression': 1202, 'ptsd': 3581, 'uni': 4680, 'observation': 3150, 'shawna': 4012, 'hiraeth': 2082, 'ink': 2290, 'victoria': 4749, 'st': 4227, 'louis': 2683, 'terrify': 4433, 'traffic': 4571, 'oneself': 3191, 'thoughtful': 4485, 'xthisusernameistakennowx': 4947, 'kehofalltrades': 2488, 'nd': 3012, 'nstop': 3120, 'soooo': 4167, 'spatial': 4186, 'graduation': 1906, 'ali': 127, 'knight': 2516, 'reminder': 3722, 'fucktard': 1779, 'defund': 1169, 'metaphor': 2849, 'fucker': 1776, 'pistol': 3404, 'correctly': 996, 'ireland': 2363, 'gunpoint': 1958, 'martyr': 2760, 'travis': 4589, 'grill': 1935, 'wildfire': 4873, 'matt': 2784, 'portion': 3459, 'multicultural': 2963, 'communism': 887, 'discover': 1259, 'millennial': 2869, 'thorpe': 4482, 'punchable': 3588, 'sham': 4001, 'deliver': 1174, 'idolize': 2198, 'alexander': 125, 'weekend': 4825, 'bash': 390, 'civilian': 804, 'significant': 4060, 'kingdom': 2508, 'statute': 4255, 'contribute': 962, 'atlantic': 307, 'kabbalah': 2476, 'freemason': 1762, 'duolingo': 1375, 'account': 34, 'bank': 378, 'shock': 4033, 'series': 3972, 'payer': 3324, 'nnso': 3074, 'rhetoric': 3778, 'generalization': 1832, 'wheel': 4841, 'masseuse': 2772, 'cis': 798, 'empathy': 1460, 'plague': 3410, 'amendment': 167, 'akinadownhillace': 116, 'cuase': 1064, 'wouldnt': 4931, 'introvert': 2346, 'fran': 1747, 'blake': 503, 'eloise': 1441, 'skylight': 4099, 'nwhy': 3140, 'garden': 1812, 'particularly': 3294, 'wage': 4780, 'profile': 3542, 'apartheid': 226, 'warning': 4795, 'table': 4381, 'shove': 4045, 'firsthand': 1678, 'perpetuate': 3359, 'pussy': 3601, 'triggered': 4605, 'burst': 624, 'profitable': 3545, 'buddy': 610, 'dna': 1305, 'antique': 215, 'anytime': 221, 'noah': 3082, 'narrow': 2994, 'ale': 123, 'designer': 1210, 'gift': 1856, 'bigoted': 475, 'stock': 4276, 'rent': 3726, 'embrace': 1449, 'coloured': 870, 'animal': 198, 'imagination': 2217, 'environment': 1505, 'rarely': 3654, 'mason': 2768, 'crowd': 1055, 'ross': 3830, 'merchant': 2842, 'nnot': 3072, 'poland': 3439, 'defensive': 1163, 'cult': 1067, 'leg': 2573, 'priest': 3515, 'poster': 3470, 'separate': 3969, 'secondly': 3936, 'th': 4445, 'silicon': 4063, 'sinful': 4075, 'kelly': 2491, 'lopez': 2671, 'bigotry': 476, 'surely': 4345, 'foreign': 1715, 'worker': 4914, 'inclusion': 2246, 'forgiveness': 1722, 'learning': 2563, 'rioting': 3799, 'bastard': 395, 'sober': 4136, 'sour': 4178, 'helen': 2042, 'fiberhive': 1655, 'hip': 2080, 'alternative': 154, 'dig': 1243, 'pipe': 3402, 'bigdaddyeddy': 473, 'patriarchy': 3311, 'celebration': 717, 'vlad': 4765, 'hardcore': 1997, 'necessarily': 3016, 'ashxr': 280, 'mehdi': 2828, 'benchekroun': 448, 'mi': 2854, 'appeal': 233, 'observe': 3151, 'revisionism': 3771, 'sicken': 4053, 'ungrateful': 4679, 'cried': 1041, 'footage': 1710, 'untrue': 4702, 'belive': 440, 'presidential': 3504, 'sweep': 4366, 'billboard': 479, 'austrian': 327, 'fresh': 1764, 'preach': 3487, 'dt': 1362, 'depends': 1199, 'abused': 24, 'cater': 705, 'safety': 3855, 'hunt': 2170, 'patriotic': 3314, 'educational': 1407, 'opportunity': 3202, 'roblox': 3817, 'april': 243, 'wheeler': 4843, 'ship': 4028, 'israelite': 2379, 'africans': 92, 'mlk': 2907, 'creepy': 1039, 'occur': 3155, 'employ': 1464, 'employment': 1467, 'contraversial': 961, 'yip': 4971, 'thecounterpointer': 4453, 'captain': 679, 'billion': 480, 'peer': 3335, 'meaningless': 2812, 'dosent': 1335, 'asshole': 291, 'discriminatory': 1262, 'chop': 778, 'despite': 1215, 'harris': 2003, 'cobb': 850, 'california': 651, 'bachelor': 349, 'improve': 2240, 'hahaha': 1963, 'burnt': 623, 'freaking': 1756, 'melanin': 2829, 'appearance': 235, 'update': 4704, 'active': 49, 'harrison': 2004, 'doc': 1308, 'carl': 687, 'mya': 2976, 'kahlo': 2478, 'tattoo': 4403, 'noble': 3084, 'copper': 982, 'ccp': 713, 'enslavement': 1495, 'ounce': 3232, 'fill': 1662, 'ratio': 3659, 'memory': 2835, 'feed': 1642, 'born': 549, 'freak': 1755, 'horizon': 2137, 'beach': 406, 'gonzalez': 1887, 'doe': 1313, 'summer': 4326, 'grace': 1902, 'permanently': 3356, 'guinness': 1955, 'brand': 570, 'sudden': 4316, 'silent': 4062, 'generally': 1834, 'nwo': 3141, 'lyfe': 2699, 'band': 374, 'wagon': 4781, 'nicholas': 3046, 'glasgow': 1868, 'william': 4874, 'duh': 1366, 'purely': 3593, 'emily': 1452, 'foster': 1737, 'favour': 1634, 'cackle': 645, 'jacket': 2390, 'closer': 835, 'ashton': 279, 'levry': 2600, 'poverty': 3474, 'enthusiastic': 1499, 'ashley': 278, 'laurencya': 2551, 'unjustly': 4693, 'congratulation': 930, 'identity': 2189, 'hail': 1966, 'gangster': 1808, 'wether': 4835, 'removal': 3724, 'madame': 2708, 'corgi': 986, 'resign': 3748, 'belinda': 439, 'yah': 4950, 'watching': 4806, 'istanbul': 2382, 'painter': 3263, 'contradictory': 959, 'commie': 882, 'wherever': 4847, 'spring': 4222, 'project': 3549, 'nom': 3088, 'orwellian': 3226, 'starbucks': 4239, 'surrender': 4350, 'cooperation': 980, 'bailee': 362, 'beckett': 419, 'mo': 2908, 'communicate': 886, 'disappoint': 1253, 'cousin': 1020, 'internalized': 2332, 'polar': 3440, 'cheer': 753, 'bite': 495, 'split': 4213, 'fav': 1631, 'darci': 1107, 'note': 3104, 'bore': 546, 'willing': 4876, 'priority': 3523, 'flaming': 1689, 'samurai': 3865, 'vegan': 4736, 'cruelty': 1059, 'australian': 326, 'wth': 4941, 'shed': 4014, 'county': 1013, 'nnbecause': 3059, 'harder': 1998, 'elementary': 1431, 'nblack': 3009, 'lolol': 2659, 'kabal': 2475, 'sexualise': 3990, 'subvert': 4311, 'bond': 536, 'atheistic': 304, 'abhorrs': 7, 'nbowie': 3010, 'material': 2779, 'trent': 4596, 'cyndle': 1083, 'angulo': 197, 'stargirl': 4242, 'crack': 1026, 'incoming': 2249, 'spare': 4185, 'slight': 4110, 'calendar': 650, 'dang': 1098, 'grandmother': 1911, 'abolish': 11, 'sweden': 4364, 'pro': 3531, 'havent': 2019, 'talkin': 4394, 'tyranny': 4640, 'howard': 2153, 'trigg': 4603, 'cookie': 977, 'september': 3971, 'hostile': 2147, 'bang': 377, 'democrats': 1184, 'donna': 1327, 'jane': 2401, 'distract': 1290, 'proportion': 3560, 'criticism': 1050, 'thankfully': 4448, 'healthcare': 2026, 'housing': 2152, 'lame': 2536, 'bandwagon': 376, 'adopt': 72, 'honored': 2128, 'er': 1516, 'medical': 2820, 'stereotyping': 4266, 'reject': 3704, 'fentanyl': 1651, 'jan': 2400, 'map': 2738, 'barely': 385, 'proven': 3573, 'fascinate': 1620, 'throughout': 4493, 'simpleton': 4069, 'smollett': 4130, 'originate': 3224, 'drone': 1357, 'brings': 589, 'jo': 2433, 'van': 4732, 'almen': 142, 'binary': 482, 'nno': 3071, 'goofy': 1890, 'ong': 3192, 'sew': 3985, 'pixie': 3408, 'film': 1664, 'israeli': 2378, 'lucy': 2691, 'atkinson': 305, 'reform': 3695, 'imaginary': 2216, 'pleasure': 3425, 'sean': 3929, 'carla': 688, 'vos': 4770, 'warp': 4796, 'mudkipmadness': 2958, 'ghana': 1852, 'tucker': 4622, 'glass': 1869, 'nwho': 3139, 'stfu': 4272, 'wiser': 4893, 'thrive': 4491, 'taught': 4404, 'weapon': 4817, 'maui': 2791, 'representation': 3736, 'alahna': 118, 'investigate': 2353, 'atm': 311, 'politically': 3448, 'respectable': 3752, 'greatness': 1922, 'shane': 4004, 'asleep': 285, 'alien': 129, 'becuase': 422, 'mc': 2799, 'petty': 3375, 'chose': 779, 'dank': 1104, 'hurtful': 2172, 'belongs': 445, 'happily': 1991, 'ed': 1400, 'jessup': 2423, 'weakness': 4814, 'impact': 2228, 'specify': 4198, 'distance': 1287, 'inevitable': 2274, 'village': 4758, 'parliament': 3287, 'sluttywise': 4119, 'teeth': 4422, 'damaging': 1092, 'info': 2279, 'traditional': 4570, 'wholesome': 4861, 'emotion': 1457, 'sport': 4215, 'yay': 4955, 'forgets': 1720, 'sweat': 4362, 'painful': 3261, 'courage': 1015, 'crash': 1029, 'saturday': 3883, 'sunday': 4328, 'youth': 4978, 'skippy': 4097, 'endless': 1476, 'correction': 995, 'offended': 3166, 'furry': 1794, 'guideline': 1950, 'beaten': 411, 'enable': 1470, 'untill': 4701, 'natalie': 2997, 'nina': 3051, 'confederate': 919, 'reliable': 3714, 'fairly': 1601, 'instance': 2309, 'restore': 3761, 'noh': 3087, 'amazingly': 162, 'spine': 4209, 'dean': 1135, 'floor': 1694, 'assign': 292, 'hiho': 2069, 'sebastian': 3933, 'awakening': 338, 'someday': 4153, 'legally': 2576, 'boi': 533, 'bobby': 530, 'speaking': 4190, 'comfort': 877, 'bf': 465, 'textbook': 4443, 'production': 3536, 'outrage': 3237, 'surprised': 4349, 'asexual': 276, 'pause': 3317, 'dheas': 1228, 'exercise': 1568, 'aaliyah': 0, 'yusuf': 4984, 'track': 4566, 'analyst': 180, 'strip': 4293, 'monster': 2922, 'captinod': 680, 'unemployed': 4675, 'nnall': 3057, 'duck': 1363, 'gate': 1817, 'dangus': 1101, 'uprise': 4708, 'tamir': 4396, 'rice': 3783, 'upload': 4705, 'videos': 4753, 'foot': 1709, 'awake': 337, 'pant': 3277, 'quickly': 3615, 'wired': 4890, 'initial': 2287, 'whine': 4850, 'firm': 1676, 'susan': 4354, 'spectrum': 4199, 'disadvantage': 1250, 'ex': 1556, 'themighty': 4457, 'derp': 1205, 'troy': 4611, 'der': 1203, 'jakob': 2397, 'pakistan': 3265, 'shenanigan': 4018, 'ramsey': 3643, 'cos': 1000, 'island': 2374, 'devisive': 1225, 'penalty': 3337, 'closely': 834, 'direct': 1245, 'whiny': 4852, 'unsubscribed': 4699, 'round': 3831, 'teleshit': 4424, 'mic': 2856, 'boys': 563, 'declare': 1151, 'liz': 2643, 'cee': 715, 'admiration': 68, 'barker': 387, 'logically': 2656, 'pack': 3256, 'ottoman': 3230, 'lime': 2622, 'informative': 2282, 'thanx': 4450, 'jog': 2437, 'lockhart': 2652, 'internalize': 2331, 'eliminate': 1435, 'chase': 749, 'courtney': 1019, 'misconception': 2889, 'lydia': 2698, 'unirals': 4685, 'sexy': 3993, 'electrical': 1429, 'elvis': 1444, 'ricardo': 3782, 'glory': 1876, 'darwin': 1114, 'republic': 3739, 'robbery': 3814, 'dehumanize': 1172, 'harbour': 1995, 'tonight': 4540, 'slack': 4100, 'indigenous': 2264, 'humor': 2165, 'tend': 4428, 'absurd': 21, 'creep': 1038, 'selassie': 3951, 'breed': 580, 'elm': 1439, 'eachother': 1382, 'slap': 4103, 'institutional': 2314, 'cummings': 1070, 'batman': 397, 'crisis': 1046, 'flu': 1699, 'predator': 3490, 'intersex': 2338, 'soviet': 4181, 'union': 4683, 'arnold': 261, 'looool': 2666, 'dummy': 1370, 'attractive': 320, 'rig': 3793, 'sinister': 4079, 'historically': 2088, 'tommy': 4535, 'legitimate': 2579, 'hungry': 2169, 'sirrus': 4083, 'noone': 3092, 'depreciate': 1201, 'trick': 4602, 'snowflake': 4133, 'jackie': 2391, 'aisle': 114, 'barbies': 384, 'creative': 1033, 'mini': 2880, 'suspicious': 4358, 'purity': 3595, 'eu': 1533, 'fourth': 1743, 'inferior': 2276, 'iran': 2361, 'mp': 2952, 'yt': 4982, 'paige': 3259, 'unsalted': 4698, 'vanesa': 4734, 'zack': 4986, 'believer': 438, 'walmart': 4787, 'mole': 2916, 'upper': 4707, 'narcissist': 2991, 'allah': 134, 'fraud': 1753, 'rain': 3638, 'forest': 1717, 'tout': 4558, 'neet': 3020, 'freek': 1760, 'eternity': 1529, 'torment': 4546, 'fifty': 1657, 'olive': 3183, 'homeless': 2111, 'disprove': 1283, 'feature': 1639, 'elsewhere': 1443, 'wacko': 4777, 'mister': 2898, 'lunch': 2694, 'aria': 256, 'maas': 2704, 'rachel': 3627, 'divorce': 1303, 'heterosexuality': 2060, 'turner': 4627, 'slaughter': 4104, 'nationalism': 3002, 'cap': 671, 'tactic': 4383, 'success': 4313, 'bread': 575, 'basket': 394, 'statistically': 4251, 'print': 3521, 'yank': 4954, 'approach': 240, 'speaks': 4191, 'enlighten': 1490, 'usual': 4720, 'meee': 2822, 'wha': 4836, 'edgy': 1401, 'august': 323, 'york': 4975, 'whoa': 4858, 'helicopter': 2043, 'district': 1292, 'grass': 1915, 'intend': 2322, 'grizzly': 1937, 'periodt': 3355, 'gat': 1816, 'suppress': 4340, 'freshman': 1765, 'senior': 3961, 'nowadays': 3112, 'arabic': 247, 'bitching': 494, 'ava': 332, 'titus': 4522, 'egg': 1415, 'immunity': 2225, 'conform': 924, 'pr': 3481, 'centre': 726, 'popular': 3456, 'brian': 583, 'penis': 3338, 'cetinkaya': 731, 'disproportionately': 1282, 'economic': 1397, 'italy': 2384, 'andres': 189, 'sob': 4135, 'achievement': 42, 'trendy': 4595, 'relatively': 3710, 'whovian': 4865, 'bright': 586, 'unrest': 4697, 'contention': 953, 'civilization': 806, 'emilee': 1450, 'henderson': 2050, 'contact': 950, 'beneficial': 450, 'sooner': 4165, 'camel': 656, 'joking': 2445, 'condition': 915, 'respectfully': 3754, 'tryin': 4619, 'deceit': 1143, 'morning': 2933, 'darren': 1112, 'pearn': 3332, 'nursing': 3134, 'roderick': 3821, 'harper': 2002, 'un': 4658, 'colored': 867, 'comming': 883, 'utterly': 4724, 'assistance': 294, 'amazon': 163, 'klan': 2513, 'muscle': 2970, 'paradigm': 3283, 'smerg': 4125, 'thedargon': 4454, 'sight': 4056, 'disappear': 1252, 'tribal': 4600, 'gang': 1807, 'pantry': 3279, 'alexhs': 126, 'savvakhs': 3892, 'indians': 2262, 'cherokee': 759, 'pigment': 3397, 'scam': 3898, 'affiliate': 85, 'troop': 4609, 'horrendous': 2138, 'cage': 646, 'botina': 553, 'nra': 3116, 'launder': 2549, 'giuliani': 1862, 'lev': 2596, 'mattering': 2786, 'stack': 4229, 'maker': 2721, 'scum': 3925, 'instruction': 2315, 'spoken': 4214, 'tory': 4549, 'contrary': 960, 'waterloo': 4808, 'everyones': 1549, 'enoch': 1492, 'powell': 3475, 'gentleman': 1841, 'ye': 4957, 'jun': 2466, 'sandwich': 3869, 'hussein': 2175, 'oppressive': 3209, 'pronounce': 3552, 'relaxed': 3711, 'nnblm': 3060, 'lebowski': 2566, 'curly': 1074, 'trial': 4598, 'heavily': 2037, 'tracey': 4565, 'frankly': 1752, 'toilet': 4526, 'apologize': 229, 'raider': 3636, 'tension': 4429, 'brainwashed': 568, 'definite': 1165, 'foolish': 1708, 'workforce': 4915, 'nnthis': 3077, 'sympathy': 4374, 'globe': 1874, 'diamond': 1230, 'involved': 2357, 'prisoner': 3525, 'fashion': 1623, 'filter': 1665, 'counterpart': 1009, 'scotland': 3916, 'lilyx': 2621, 'jade': 2394, 'nosferatu': 3102, 'distroy': 1293, 'indoctrinated': 2269, 'micheal': 2858, 'poc': 3432, 'racially': 3629, 'christmas': 784, 'het': 2058, 'guard': 1946, 'purchase': 3591, 'boet': 532, 'gg': 1851, 'accusation': 38, 'reservation': 3746, 'mattter': 2789, 'item': 2385, 'proper': 3556, 'prophet': 3559, 'challenge': 734, 'zz': 4998, 'lauper': 2550, 'oml': 3189, 'punch': 3587, 'gem': 1828, 'logan': 2653, 'lbj': 2556, 'baphomet': 380, 'sophomore': 4171, 'mathematics': 2782, 'dry': 1361, 'talent': 4392, 'complaining': 896, 'becouse': 421, 'elevator': 1433, 'shun': 4048, 'leila': 2584, 'blindly': 515, 'academic': 26, 'conclude': 912, 'heal': 2024, 'heck': 2039, 'societal': 4140, 'frickin': 1766, 'ball': 367, 'coen': 855, 'radio': 3634, 'announce': 205, 'derogatory': 1204, 'revolt': 3772, 'ultimate': 4652, 'retweet': 3768, 'rebel': 3679, 'boyfriend': 562, 'nthen': 3124, 'liam': 2604, 'catalyst': 703, 'cena': 721, 'gta': 1943, 'manage': 2728, 'tweet': 4631, 'earlier': 1385, 'disturb': 1294, 'heat': 2034, 'sink': 4080, 'hiv': 2093, 'par': 3281, 'plead': 3423, 'suspect': 4355, 'doty': 1338, 'whitaker': 4854, 'labor': 2529, 'funded': 1789, 'outcome': 3233, 'underclass': 4667, 'corporeal': 993, 'experiment': 1576, 'closeted': 837, 'capitol': 678, 'alysa': 158, 'criticise': 1049, 'hooligan': 2133, 'republicans': 3741, 'forth': 1730, 'hearing': 2030, 'jonny': 2449, 'hexapositive': 2061, 'relatable': 3705, 'discount': 1257, 'spray': 4220, 'androgynous': 191, 'hence': 2049, 'db': 1127, 'sayin': 3895, 'handful': 1982, 'carlos': 689, 'ofaboosting': 3161, 'lust': 2695, 'arse': 266, 'gandhi': 1806, 'rat': 3656, 'mohamed': 2914, 'eminem': 1453, 'gather': 1818, 'deadly': 1131, 'testimony': 4440, 'scenario': 3905, 'bait': 365, 'souls': 4176, 'phoebe': 3384, 'reynolds': 3776, 'harmful': 2001, 'engineeringnengineering': 1486, 'willnif': 4877, 'willnits': 4878, 'applaud': 236, 'dorn': 1333, 'blatant': 508, 'subscriber': 4309, 'vomit': 4769, 'cancel': 664, 'girly': 1861, 'starseed': 4244, 'homosexualality': 2120, 'bud': 609, 'disproportionate': 1281, 'grandparent': 1912, 'junberia': 2467, 'hmmm': 2096, 'yeet': 4962, 'cringe': 1045, 'alona': 145, 'user': 4718, 'oops': 3195, 'baddie': 357, 'nnmy': 3068, 'conduct': 917, 'strive': 4294, 'diversity': 1298, 'edit': 1402, 'liqin': 2630, 'guo': 1959, 'retarded': 3764, 'alongside': 148, 'champ': 735, 'molyneux': 2918, 'duty': 1378, 'mythological': 2978, 'vokzel': 4767, 'goin': 1881, 'disorder': 1277, 'iconic': 2183, 'affair': 83, 'cretin': 1040, 'kamron': 2479, 'arsehole': 267, 'riddance': 3789, 'implement': 2230, 'duncan': 1373, 'cabin': 644, 'gorge': 1892, 'wee': 4822, 'grave': 1917, 'tan': 4397, 'undervalue': 4673, 'campbell': 660, 'divine': 1300, 'default': 1159, 'foreigner': 1716, 'misogynist': 2892, 'civilize': 807, 'nancy': 2988, 'pelosi': 3336, 'slang': 4102, 'uae': 4643, 'bullying': 617, 'dany': 1106, 'fly': 1701, 'childish': 768, 'drown': 1359, 'superficial': 4331, 'frustrate': 1771, 'accomplish': 32, 'kappy': 2480, 'employee': 1465, 'congressional': 931, 'progressive': 3548, 'effectively': 1412, 'sola': 4145, 'colubrum': 872, 'float': 1693, 'traitor': 4578, 'harry': 2005, 'contract': 957, 'gtc': 1944, 'yemen': 4965, 'ultra': 4654, 'handler': 1984, 'debt': 1140, 'app': 231, 'eating': 1395, 'pork': 3458, 'secretly': 3939, 'meal': 2809, 'catholicism': 708, 'manual': 2735, 'admirable': 66, 'beliefs': 436, 'novel': 3110, 'wrinkle': 4935, 'conceal': 906, 'lyric': 2703, 'victory': 4750, 'haile': 1967, 'transsexual': 4584, 'indirectly': 2266, 'aunt': 324, 'uncle': 4665, 'flame': 1688, 'littler': 2638, 'stretch': 4291, 'misspell': 2895, 'dy': 1379, 'izzy': 2387, 'ming': 2879, 'tian': 4505, 'heavy': 2038, 'dey': 1227, 'sling': 4113, 'blade': 501, 'dodge': 1312, 'hairy': 1972, 'flower': 1696, 'weirdo': 4828, 'chemistry': 757, 'bravo': 573, 'faster': 1626, 'bluefavorites': 525, 'sock': 4142, 'yazz': 4956, 'solely': 4147, 'rescue': 3744, 'orient': 3219, 'lobby': 2648, 'joe': 2436, 'ck': 808, 'evening': 1540, 'tap': 4399, 'forgotten': 1724, 'kat': 2484, 'perceived': 3344, 'mulenga': 2962, 'gr': 1901, 'deception': 1147, 'indoctrination': 2270, 'ditch': 1295, 'sway': 4360, 'ultimately': 4653, 'royalty': 3833, 'tienglongmy': 4508, 'niece': 3048, 'selective': 3952, 'sweetheart': 4368, 'prevalent': 3509, 'mayja': 2797, 'gamer': 1803, 'mary': 2764, 'jealousy': 2411, 'kenny': 2493, 'inherit': 2286, 'mcleod': 2806, 'vagina': 4727, 'productive': 3537, 'artwork': 273, 'chuckle': 787, 'narcissistic': 2992, 'jj': 2430, 'grey': 1930, 'speach': 4187, 'somewhat': 4159, 'incite': 2244, 'fu': 1773, 'fk': 1686, 'americans': 170, 'bxnz': 640, 'bxndit': 639, 'revelation': 3769, 'rocco': 3819, 'cocoa': 851, 'butter': 634, 'jussie': 2471, 'cherry': 760, 'spin': 4208, 'meeting': 2824, 'castellanos': 700, 'permission': 3357, 'told': 4530, 'meat': 2816, 'utopia': 4722, 'geek': 1826, 'atlanta': 306, 'recall': 3681, 'cartel': 695, 'wit': 4895, 'blms': 519, 'tight': 4509, 'considers': 941, 'malaysia': 2723, 'alt': 153, 'holler': 2104, 'reward': 3774, 'chart': 748, 'technically': 4417, 'psychic': 3577, 'editor': 1403, 'invest': 2352, 'profession': 3539, 'latinos': 2547, 'rank': 3647, 'colosseum': 868, 'hol': 2099, 'teresa': 4430, 'saved': 3888, 'performer': 3352, 'beware': 462, 'census': 723, 'nerd': 3029, 'trait': 4577, 'emma': 1454, 'islamic': 2373, 'dedicated': 1153, 'soooooo': 4169, 'cheryl': 761, 'urself': 4713, 'worshipper': 4926, 'jeans': 2413, 'gathering': 1819, 'restaurant': 3760, 'sharp': 4008, 'convey': 972, 'pavement': 3318, 'brutally': 604, 'amongst': 173, 'rant': 3648, 'introduce': 2345, 'pin': 3400, 'democratically': 1183, 'damian': 1093, 'vigorito': 4756, 'cape': 674, 'dot': 1337, 'dose': 1334, 'hamster': 1979, 'eight': 1420, 'kiri': 2509, 'hern': 2054, 'happend': 1989, 'autistic': 329, 'med': 2819, 'nathan': 2998, 'insidious': 2299, 'iam': 2180, 'settle': 3981, 'politic': 3446, 'marketing': 2751, 'blackmail': 500, 'fighting': 1660, 'sweetpea': 4370, 'popcorn': 3455, 'fixate': 1685, 'desperately': 1213, 'candy': 669, 'impartial': 2229, 'coincidence': 858, 'gump': 1956, 'satanist': 3881, 'savile': 3889, 'barbara': 382, 'jeffrey': 2415, 'beaver': 417, 'redefine': 3690, 'opposition': 3205, 'surgeon': 4346, 'geez': 1827, 'lifes': 2613, 'chīsana': 791, 'stefan': 4258, 'shaver': 4010, 'pedophile': 3333, 'forrest': 1728, 'positivity': 3465, 'score': 3915, 'witty': 4900, 'cloudmars': 841, 'mzhris': 2980, 'dope': 1332, 'effective': 1411, 'range': 3646, 'nnno': 3070, 'disrupt': 1286, 'cup': 1071, 'host': 2146, 'nnme': 3067, 'wym': 4943, 'unfairly': 4677, 'stargate': 4241, 'pattyy': 3315, 'polish': 3444, 'upside': 4711, 'hijab': 2070, 'parenthood': 3285, 'snitch': 4132, 'braid': 564, 'psychopath': 3580, 'hamilton': 1977, 'jenner': 2416, 'forum': 1735, 'atrocity': 312, 'absent': 18, 'introverted': 2347, 'reflect': 3693, 'yearly': 4961, 'biased': 468, 'pas': 3298, 'sandberg': 3866, 'prick': 3513, 'wisdom': 4891, 'establish': 1526, 'peacefull': 3330, 'bold': 534, 'highlight': 2067, 'valley': 4729, 'dickhead': 1234, 'earthling': 1389, 'oxymoron': 3254, 'offends': 3167, 'insist': 2301, 'castle': 701, 'youve': 4980, 'ghandi': 1853, 'lena': 2587, 'morningstar': 2934, 'spent': 4204, 'nplease': 3115, 'relief': 3715, 'security': 3941, 'warn': 4794, 'sent': 3964, 'hook': 2132, 'guardafui': 1947, 'holding': 2101, 'entirety': 1502, 'dealt': 1134, 'nshare': 3117, 'pour': 3473, 'odds': 3160, 'tht': 4496, 'recommend': 3687, 'angle': 195, 'emotionally': 1459, 'forced': 1712, 'alucard': 156, 'yang': 4953, 'therapeutic': 4465, 'li': 2603, 'emphasize': 1462, 'quarantine': 3609, 'clothing': 839, 'dosnt': 1336, 'blah': 502, 'mitchell': 2903, 'teaching': 4412, 'sisu': 4085, 'guillam': 1952, 'yooo': 4974, 'unbiased': 4663, 'carolyne': 692, 'geng': 1838, 'cu': 1063, 'hoo': 2130, 'journalist': 2454, 'disingenuous': 1272, 'stewart': 4271, 'innit': 2293, 'bat': 396, 'initially': 2288, 'funnel': 1792, 'steph': 4261, 'casey': 697, 'sooooo': 4168, 'sphere': 4205, 'spider': 4206, 'demo': 1179, 'falcon': 1604, 'jus': 2470, 'moustache': 2947, 'legitimately': 2580, 'pot': 3471, 'ege': 1414, 'counselor': 1006, 'shield': 4025, 'rhodesia': 3781, 'saudi': 3885, 'perceive': 3343, 'trip': 4606, 'listening': 2633, 'substance': 4310, 'tristan': 4607, 'petra': 3373, 'pavičić': 3320, 'ballet': 368, 'tad': 4384, 'fundamental': 1787, 'shrödinger': 4047, 'arabia': 246, 'naacp': 2982, 'aftermath': 94, 'dawson': 1125, 'amy': 177, 'beaullah': 413, 'lothbrok': 2679, 'immoral': 2224, 'thuggery': 4498, 'ocean': 3156, 'hayden': 2021, 'rheana': 3777, 'coast': 848, 'misunderstand': 2901, 'righteous': 3796, 'ist': 2381, 'tale': 4391, 'addition': 61, 'queenofindians': 3611, 'kabbalist': 2477, 'connect': 932, 'hmmmm': 2097, 'station': 4249, 'jared': 2404, 'leadership': 2561, 'ciccone': 792, 'cease': 714, 'dzynone': 1381, 'arguement': 254, 'planned': 3415, 'di': 1229, 'enlightened': 1491, 'contemplate': 951, 'acknowledgement': 44, 'hunger': 2168, 'libya': 2610, 'ruth': 3843, 'accountability': 35, 'overrun': 3244, 'morrison': 2937, 'mather': 2783, 'crude': 1057, 'muhammad': 2961, 'scroll': 3924, 'allegation': 135, 'winner': 4886, 'quantum': 3608, 'mechanic': 2817, 'club': 843, 'ozzie': 3255, 'ascribe': 275, 'forefather': 1714, 'dawn': 1124, 'marine': 2747, 'manipulation': 2732, 'gayness': 1823, 'isolated': 2376, 'practically': 3482, 'condone': 916, 'plz': 3430, 'marijuana': 2746, 'cake': 649, 'skate': 4093, 'caught': 710, 'prostitute': 3563, 'bengal': 452, 'analyze': 181, 'martial': 2757, 'abesh': 5, 'caine': 648, 'mcmahon': 2807, 'chunk': 788, 'connor': 935, 'lifetime': 2615, 'savage': 3886, 'dc': 1128, 'homie': 2114, 'settlement': 3982, 'cindy': 793, 'boa': 526, 'preference': 3494, 'converse': 969, 'rhino': 3780, 'assist': 293, 'artery': 269, 'documentary': 1311, 'capital': 675, 'massa': 2770, 'driscoll': 1354, 'miracle': 2886, 'minus': 2884, 'oppressor': 3210, 'trevor': 4597, 'huffpost': 2157, 'paycheck': 3323, 'whale': 4837}\n"
          ]
        }
      ]
    },
    {
      "cell_type": "code",
      "source": [
        "print(Train_X_Tfidf)"
      ],
      "metadata": {
        "colab": {
          "base_uri": "https://localhost:8080/"
        },
        "id": "J2N9rA-AYNGc",
        "outputId": "237d0646-5a79-437c-ec46-3d69871ef2ca"
      },
      "execution_count": null,
      "outputs": [
        {
          "output_type": "stream",
          "name": "stdout",
          "text": [
            "  (0, 3632)\t0.5181064004772656\n",
            "  (0, 2685)\t0.2450330630311686\n",
            "  (0, 1820)\t0.3713592380160023\n",
            "  (0, 1479)\t0.4711754958361254\n",
            "  (0, 742)\t0.5582208561759495\n",
            "  (1, 4715)\t0.41510241358128747\n",
            "  (1, 2921)\t0.4949240357738261\n",
            "  (1, 2499)\t0.39878769509795586\n",
            "  (1, 1848)\t0.3029858948196717\n",
            "  (1, 1607)\t0.5761146646555014\n",
            "  (2, 2785)\t0.6903990542010492\n",
            "  (2, 2612)\t0.7234287428339414\n",
            "  (3, 4855)\t0.09305618972422791\n",
            "  (3, 4759)\t0.16059089958458167\n",
            "  (3, 4669)\t0.12448210284901183\n",
            "  (3, 4613)\t0.1299017044376574\n",
            "  (3, 4591)\t0.13996879015886968\n",
            "  (3, 4248)\t0.2918440310865732\n",
            "  (3, 4070)\t0.15857348303659208\n",
            "  (3, 3691)\t0.17520221474603093\n",
            "  (3, 3674)\t0.10982229661417542\n",
            "  (3, 3657)\t0.18111366017415242\n",
            "  (3, 3441)\t0.11451997465588003\n",
            "  (3, 3340)\t0.14849156826296547\n",
            "  (3, 2987)\t0.1258043545809999\n",
            "  :\t:\n",
            "  (22735, 2612)\t0.2593806024991741\n",
            "  (22735, 1545)\t0.41872612203322823\n",
            "  (22736, 4930)\t0.34360148521983164\n",
            "  (22736, 4810)\t0.3847009365851902\n",
            "  (22736, 3894)\t0.530556932757717\n",
            "  (22736, 2785)\t0.24683960449692577\n",
            "  (22736, 2612)\t0.2586487679498431\n",
            "  (22736, 595)\t0.5697574697516096\n",
            "  (22737, 3894)\t0.4657189977209637\n",
            "  (22737, 2785)\t0.43334800134123885\n",
            "  (22737, 2612)\t0.4540799960722443\n",
            "  (22737, 1880)\t0.6238001940223851\n",
            "  (22738, 4852)\t0.3890172893619115\n",
            "  (22738, 4752)\t0.2185571610248927\n",
            "  (22738, 4031)\t0.2857130623032189\n",
            "  (22738, 3105)\t0.23925277428143688\n",
            "  (22738, 618)\t0.30062269060123814\n",
            "  (22738, 493)\t0.6749913653498717\n",
            "  (22738, 274)\t0.34064222663814125\n",
            "  (22739, 4833)\t0.4426892516085153\n",
            "  (22739, 4752)\t0.29040878735508774\n",
            "  (22739, 2923)\t0.4281886346854746\n",
            "  (22739, 2799)\t0.50516741325594\n",
            "  (22739, 789)\t0.4089111749135482\n",
            "  (22739, 101)\t0.3375514649332057\n"
          ]
        }
      ]
    },
    {
      "cell_type": "code",
      "source": [
        "# Classifier - Algorithm - SVM\n",
        "# fit the training dataset on the classifier\n",
        "SVM = svm.SVC(C=1.0, kernel='linear', degree=3, gamma='auto')\n",
        "SVM.fit(Train_X_Tfidf,Train_Y)\n",
        "# predict the labels on validation dataset\n",
        "predictions_SVM = SVM.predict(Test_X_Tfidf)\n",
        "# Use accuracy_score function to get the accuracy\n",
        "print(\"SVM Accuracy Score -> \",accuracy_score(predictions_SVM, Test_Y)*100)"
      ],
      "metadata": {
        "colab": {
          "base_uri": "https://localhost:8080/"
        },
        "id": "tzTTWlsaYNI0",
        "outputId": "2f2908ad-69b8-4169-b9c5-f215e19b3f07"
      },
      "execution_count": null,
      "outputs": [
        {
          "output_type": "stream",
          "name": "stdout",
          "text": [
            "SVM Accuracy Score ->  91.1619718309859\n"
          ]
        }
      ]
    },
    {
      "cell_type": "code",
      "source": [
        "predictions_SVM"
      ],
      "metadata": {
        "id": "6rkAv5n_Y1-_",
        "colab": {
          "base_uri": "https://localhost:8080/"
        },
        "outputId": "cfd335f5-56b1-4d76-afeb-0b1b8bcef6e2"
      },
      "execution_count": null,
      "outputs": [
        {
          "output_type": "execute_result",
          "data": {
            "text/plain": [
              "(2840,)"
            ]
          },
          "metadata": {},
          "execution_count": 20
        }
      ]
    },
    {
      "cell_type": "code",
      "source": [
        "Test_Y"
      ],
      "metadata": {
        "id": "bU5xx-7iY2Ck",
        "colab": {
          "base_uri": "https://localhost:8080/"
        },
        "outputId": "f142049f-b7b8-4dd3-fd9c-4d8338043c1a"
      },
      "execution_count": null,
      "outputs": [
        {
          "output_type": "execute_result",
          "data": {
            "text/plain": [
              "(2840,)"
            ]
          },
          "metadata": {},
          "execution_count": 21
        }
      ]
    },
    {
      "cell_type": "code",
      "source": [
        "from sklearn.metrics import classification_report\n",
        "\n",
        "print(classification_report(Test_Y, predictions_SVM, labels=[0, 1]))"
      ],
      "metadata": {
        "colab": {
          "base_uri": "https://localhost:8080/"
        },
        "id": "L4WWyg6bQEd6",
        "outputId": "8a4fcd37-20d6-4b4d-898a-ce3407cc54a3"
      },
      "execution_count": null,
      "outputs": [
        {
          "output_type": "stream",
          "name": "stdout",
          "text": [
            "              precision    recall  f1-score   support\n",
            "\n",
            "           0       0.66      0.16      0.26       272\n",
            "           1       0.92      0.99      0.95      2568\n",
            "\n",
            "    accuracy                           0.91      2840\n",
            "   macro avg       0.79      0.58      0.61      2840\n",
            "weighted avg       0.89      0.91      0.89      2840\n",
            "\n"
          ]
        }
      ]
    }
  ]
}